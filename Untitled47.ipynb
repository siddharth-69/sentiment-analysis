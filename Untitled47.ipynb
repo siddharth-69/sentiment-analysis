{
  "nbformat": 4,
  "nbformat_minor": 0,
  "metadata": {
    "colab": {
      "name": "Untitled47.ipynb",
      "version": "0.3.2",
      "provenance": [],
      "collapsed_sections": []
    },
    "kernelspec": {
      "name": "python3",
      "display_name": "Python 3"
    },
    "accelerator": "GPU"
  },
  "cells": [
    {
      "metadata": {
        "id": "8ValooS4iw5A",
        "colab_type": "text"
      },
      "cell_type": "markdown",
      "source": [
        "  # Sentiment analysis with random forest and LSTM\n",
        "\n",
        "\n",
        "\n",
        "\n",
        "Here i am going to put together a model using LSTM that can that will be used for the sentiment analysis of news articles while being trained on a movie review training dataset.\n"
      ]
    },
    {
      "metadata": {
        "id": "GflPdztnivxx",
        "colab_type": "code",
        "colab": {}
      },
      "cell_type": "code",
      "source": [
        "import numpy as np\n",
        "import tensorflow as tf\n",
        "from google.colab import files\n",
        "import pickle\n",
        "import pandas as pd"
      ],
      "execution_count": 0,
      "outputs": []
    },
    {
      "metadata": {
        "id": "Z93giioGkDNG",
        "colab_type": "text"
      },
      "cell_type": "markdown",
      "source": [
        "Here we upoad our dataset to the drive."
      ]
    },
    {
      "metadata": {
        "id": "AO2frOKFkGWm",
        "colab_type": "code",
        "colab": {
          "resources": {
            "http://localhost:8080/nbextensions/google.colab/files.js": {
              "data": "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",
              "ok": true,
              "headers": [
                [
                  "content-type",
                  "application/javascript"
                ]
              ],
              "status": 200,
              "status_text": ""
            }
          },
          "base_uri": "https://localhost:8080/",
          "height": 72
        },
        "outputId": "8c4a560d-c487-4f41-cf6e-344631090863"
      },
      "cell_type": "code",
      "source": [
        "handle=files.upload()"
      ],
      "execution_count": 107,
      "outputs": [
        {
          "output_type": "display_data",
          "data": {
            "text/html": [
              "\n",
              "     <input type=\"file\" id=\"files-e91f4e03-ffab-4d8b-9cf8-eaa61bd500e6\" name=\"files[]\" multiple disabled />\n",
              "     <output id=\"result-e91f4e03-ffab-4d8b-9cf8-eaa61bd500e6\">\n",
              "      Upload widget is only available when the cell has been executed in the\n",
              "      current browser session. Please rerun this cell to enable.\n",
              "      </output>\n",
              "      <script src=\"/nbextensions/google.colab/files.js\"></script> "
            ],
            "text/plain": [
              "<IPython.core.display.HTML object>"
            ]
          },
          "metadata": {
            "tags": []
          }
        },
        {
          "output_type": "stream",
          "text": [
            "Saving sentiment_train2.pickle to sentiment_train2 (1).pickle\n"
          ],
          "name": "stdout"
        }
      ]
    },
    {
      "metadata": {
        "id": "2XC05JfZkG2u",
        "colab_type": "text"
      },
      "cell_type": "markdown",
      "source": [
        "# Data Pre-processing\n",
        "\n",
        "The first step when building a neural network model is getting your data into the proper form to feed into the network. Since we're using embedding layers, we'll need to encode each word with an integer. We'll also want to clean it up a bit."
      ]
    },
    {
      "metadata": {
        "id": "5iL2uRs8kIfP",
        "colab_type": "code",
        "colab": {}
      },
      "cell_type": "code",
      "source": [
        "for i in handle:\n",
        "  b=pd.read_pickle(i)\n",
        "\n",
        "y2012=['HIV cases rising in West Bengal','AP accounts for 20% of AIDS patients in India','Over 14,000 kids in India got infected by HIV','ILO launches new initiative to reach 5 million workers with voluntary HIV testing','2.5 million people living with HIV in India','Global Plan towards the Elimination of New HIV Infections among Children by 2015 and Keeping Their Mothers Alive']\n",
        "\n",
        "y2013=['Cost-effective: HIV tests for all in India','India: Living with HIV against all odds','H.I.V. Tests Urged for 800 Million in India','Indian HIV Patients to Get Life Insurance','Alarming rise in HIV cases among adolescents','Wiping out HIV: a fight against discrimination','Free drugs fighting HIV, but stigma remains']\n",
        "\n",
        "y2014=['Not a single village unaffected by HIV in Goa','India has 3rd-highest number of HIV-infected people','Poor patients in India facing HIV/AIDS drug shortages','Four states in south make up 50% of HIV cases','Law Bans Discrimination Against AIDS Patients','UNAIDS report shows that 19 million of the 35 million people living with HIV today do not know that they have the virus']\n",
        "\n",
        "y2015=['Funding crisis puts India AIDS programme and lives at risk','HIV and AIDS: Prevalence and Treatment in India and Around the World','Health Minister Questions Stress on Condoms in AIDS Fight','India announces reaching milestone of 1 million people on HIV treatment','India and Africa strengthen partnership on accessible and affordable medicines']\n",
        "\n",
        "\n",
        "y2016=['The woman who discovered India first HIV cases','AIDS deaths in India fell 58% from 2005 to 2016','India has been working tremendously hard to eradicate HIV/AIDS','Around 3,500 HIV-infected patients in Mumbai have abandoned treatment between 2013 and 2016 and nearly 90% have not been traced','2,234 new HIV infections in the past two years']\n",
        "\n",
        "y2017=['90% decline in HIV among pregnant women in Mumbai','Denied rights and treatment, HIV patients still fight stigma','All 67 children born to HIV-positive women in Mumbai over past 2 years are HIV-negative','AIDS-free by 2030, India included','India’s HIV Problem','India HIV law may bring relief to a million people','Will HIV-AIDS Bill pave way for stigma-free life to patients']\n",
        "\n",
        "y2018=['HIV cases in India drop more than 50% but challenges remain','TB among AIDS patients coming down','centre for excellence in HIV care will be set up by December 2019','Armed with a positive attitude, HIV-infected youths chase dreams','Armed with a positive attitude, HIV-infected youths chase dreams','Health ministry implements HIV AIDS Act','62% jump in HIV/AIDS deaths in Mumbai','Aurobindo gets approval for HIV drug','Here is some positive news: HIV cases fall in Ernakulam']\n",
        "\n",
        "\n",
        "review=' '.join(b['phrase'])\n",
        "y1=' '.join(y2012)\n",
        "y2=' '.join(y2013)\n",
        "y3=' '.join(y2014)\n",
        "y4=' '.join(y2015)\n",
        "y5=' '.join(y2016)\n",
        "y6=' '.join(y2017)\n",
        "y7=' '.join(y2018)\n",
        "review=review.split()\n",
        "y1=y1.split()\n",
        "y2=y2.split()\n",
        "y3=y3.split()\n",
        "y4=y4.split()\n",
        "y5=y5.split()\n",
        "y6=y6.split()\n",
        "y7=y7.split()\n",
        "review=review+y1+y2+y3+y4+y5+y6+y7"
      ],
      "execution_count": 0,
      "outputs": []
    },
    {
      "metadata": {
        "id": "vwLxq1y6stNe",
        "colab_type": "code",
        "colab": {
          "base_uri": "https://localhost:8080/",
          "height": 54
        },
        "outputId": "586c45ab-9043-4474-c1cd-a268303b0a2c"
      },
      "cell_type": "code",
      "source": [
        "print(review[:20])"
      ],
      "execution_count": 109,
      "outputs": [
        {
          "output_type": "stream",
          "text": [
            "['A', 'series', 'of', 'escapades', 'demonstrating', 'the', 'adage', 'that', 'what', 'is', 'good', 'for', 'the', 'goose', 'is', 'also', 'good', 'for', 'the', 'gander']\n"
          ],
          "name": "stdout"
        }
      ]
    },
    {
      "metadata": {
        "id": "vIu4V7TjkJSr",
        "colab_type": "text"
      },
      "cell_type": "markdown",
      "source": [
        "# Encoding the words\n",
        "\n",
        "The embedding lookup requires that we pass in integers to our network. The easiest way to do this is to create dictionaries that map the words in the vocabulary to integers. Then we can convert each of our reviews into integers so they can be passed into the network."
      ]
    },
    {
      "metadata": {
        "id": "0r1nvY3ZkJvA",
        "colab_type": "code",
        "colab": {
          "base_uri": "https://localhost:8080/",
          "height": 54
        },
        "outputId": "7f646b23-5ea4-426a-e62f-a1d40105e613"
      },
      "cell_type": "code",
      "source": [
        "from collections import Counter\n",
        "counts = Counter(review)\n",
        "print(counts)\n",
        "vocab = sorted(counts, key=counts.get, reverse=True)\n",
        "vocab_to_int = {word: ii for ii, word in enumerate(vocab, 1)}\n",
        "\n",
        "review_int=[]\n",
        "y1=[]\n",
        "y2=[]\n",
        "y3=[]\n",
        "y4=[]\n",
        "y5=[]\n",
        "y6=[]\n",
        "y7=[]\n",
        "\n",
        "for each in b['phrase']:\n",
        "  review_int.append([vocab_to_int[word] for word in each.split()])\n",
        "  \n",
        "for each in y2012:\n",
        "  y1.append([vocab_to_int[word] for word in each.split()])\n",
        "  \n",
        "for each in y2013:\n",
        "  y2.append([vocab_to_int[word] for word in each.split()])\n",
        "  \n",
        "for each in y2014:\n",
        "  y3.append([vocab_to_int[word] for word in each.split()])\n",
        "  \n",
        "for each in y2015:\n",
        "  y4.append([vocab_to_int[word] for word in each.split()])\n",
        "  \n",
        "for each in y2016:\n",
        "  y5.append([vocab_to_int[word] for word in each.split()])\n",
        "  \n",
        "for each in y2017:\n",
        "  y6.append([vocab_to_int[word] for word in each.split()])\n",
        "  \n",
        "for each in y2018:\n",
        "  y7.append([vocab_to_int[word] for word in each.split()])"
      ],
      "execution_count": 110,
      "outputs": [
        {
          "output_type": "stream",
          "text": [
            "Counter({'the': 5579, ',': 3926, 'of': 3704, 'and': 3606, 'a': 3605, 'to': 2321, \"'s\": 1886, '.': 1841, 'is': 1395, 'in': 1305, 'that': 1283, 'it': 1021, 'as': 950, 'with': 845, 'its': 818, 'for': 697, 'film': 695, 'movie': 660, 'but': 634, 'an': 543, 'on': 525, 'at': 494, 'this': 492, 'by': 438, 'more': 435, 'The': 433, 'from': 425, 'his': 419, 'be': 419, \"n't\": 414, 'than': 406, 'one': 396, 'not': 388, 'about': 375, 'you': 362, 'like': 360, 'are': 360, 'all': 355, 'story': 348, 'has': 329, '-RRB-': 311, \"'\": 302, '--': 277, '-LRB-': 273, 'into': 270, 'most': 270, 'A': 269, 'who': 253, 'or': 252, 'I': 238, 'up': 238, 'their': 237, 'good': 226, 'too': 215, 'movies': 213, 'so': 212, 'characters': 212, 'life': 210, 'little': 209, '`': 208, 'your': 205, 'any': 198, 'own': 198, 'some': 196, 'have': 195, 'very': 192, 'which': 189, 'can': 188, 'much': 187, '...': 186, 'out': 186, 'just': 182, 'us': 182, 'what': 174, 'through': 174, 'only': 171, 'funny': 168, 'enough': 167, 'been': 164, 'off': 162, 'comedy': 162, 'will': 162, 'time': 160, 'director': 155, 'do': 153, 'love': 152, 'way': 152, 'he': 151, 'if': 142, \"''\": 141, '``': 140, 'does': 139, 'make': 135, 'may': 135, 'something': 133, 'even': 133, 'our': 132, 'them': 131, 'heart': 131, 'had': 130, 'Hollywood': 127, 'action': 126, 'come': 124, 'actors': 123, 'right': 123, 'her': 122, 'get': 122, 'would': 121, 'well': 121, 'It': 120, 'history': 120, 'other': 119, 'ever': 119, 'both': 117, 'no': 115, 'best': 115, 'while': 112, 'man': 112, 'films': 110, 'see': 109, 'we': 108, 'big': 108, 'character': 107, 'world': 105, ':': 105, 'when': 105, 'screen': 103, 'people': 102, 'makes': 101, 'made': 101, 'because': 100, 'was': 100, 'look': 98, 'audience': 98, 'could': 96, 'still': 95, 'comic': 95, 'bad': 94, 'many': 94, 'end': 94, 'new': 90, 'first': 88, 'fun': 88, 'things': 88, 'they': 88, 'sense': 87, 'minutes': 87, 'light': 87, 'interesting': 86, 'nothing': 85, 'script': 85, 'feel': 85, 'less': 84, 'going': 84, 'those': 84, 'rather': 82, 'seen': 82, 'kind': 82, 'few': 82, 'better': 80, 'human': 80, 'ultimately': 79, 'without': 79, 'never': 79, 'every': 79, 'last': 78, 'cast': 78, 'show': 77, 'back': 77, 'filmmaking': 77, 'over': 77, 'strong': 76, 'simply': 76, 'did': 76, 'sweet': 75, 'might': 75, 'after': 75, 'there': 75, 'two': 74, 'emotional': 74, 'keep': 74, 'feeling': 74, '-': 73, 'real': 73, 'young': 72, 'find': 72, 'should': 71, 'down': 71, 'American': 71, 'around': 71, 'also': 70, 'political': 70, 'sex': 70, \"'ve\": 70, 'long': 70, 'This': 69, 'dialogue': 69, 'works': 69, 'how': 68, 'narrative': 67, 'drama': 67, 'performance': 66, 'documentary': 66, 'summer': 66, 'tale': 66, 'visual': 65, 'take': 65, 'same': 64, 'flick': 64, 'romantic': 64, 'work': 63, 'emotions': 63, 'again': 63, 'performances': 62, 'plot': 62, 'point': 62, 'An': 62, 'another': 62, 'pieces': 62, ';': 62, 'screenplay': 61, 'experience': 61, 'recent': 61, 'else': 61, 'him': 61, 'moments': 61, 'between': 61, 'though': 60, 'really': 60, 'hard': 59, 'intrigue': 59, 'goes': 59, 'trying': 59, 'before': 59, 'far': 58, 'laughs': 58, 'side': 58, 'here': 57, 'gives': 57, 'lives': 57, 'thing': 57, 'horror': 56, 'itself': 56, 'lot': 56, 'great': 56, 'probably': 56, 'beautiful': 56, 'powerful': 56, 'audiences': 56, 'high': 55, 'acting': 55, 'old': 55, 'original': 54, 'cinema': 54, 'quite': 54, 'scenes': 53, 'happen': 53, 'meditation': 52, 'wit': 51, 'plays': 51, 'music': 51, 'culture': 51, 'stuff': 51, 'enjoyable': 51, 'actor': 50, 'everyone': 50, 'special': 50, 'these': 50, 'family': 50, 'In': 49, 'Love': 49, \"'re\": 49, 'modern': 49, 'material': 49, 'engaging': 49, 'making': 49, 'silly': 49, 'turn': 49, 'children': 49, 'need': 49, 'humor': 49, 'say': 48, 'watching': 48, 'times': 48, 'gets': 48, 'often': 48, 'taking': 48, 'year': 47, 'feels': 47, 'compelling': 47, 'seems': 47, 'face': 47, 'moving': 47, 'know': 46, 'understand': 46, 'surprisingly': 46, 'view': 46, 'dramatic': 46, 'sane': 46, 'go': 45, 'care': 45, 'put': 45, 'days': 45, 'entertaining': 44, 'worth': 44, 'almost': 44, 'amusing': 44, 'storytelling': 44, 'place': 44, 'such': 44, 'sincere': 43, 'start': 43, 'offers': 43, 'filmmaker': 43, 'otherwise': 43, '?': 43, 'exotic': 43, 'kids': 43, 'famous': 43, 'finally': 43, 'full': 43, 'picture': 43, 'version': 42, 'short': 42, 'guys': 42, 'mostly': 42, 'sad': 42, 'bit': 42, 'comes': 42, 'gone': 42, 'hand': 42, 'ensemble': 42, 'reason': 41, 'source': 41, 'give': 41, 'beyond': 41, 'thriller': 41, 'clever': 41, 'barely': 41, 'yet': 41, 'bizarre': 41, 'together': 41, 'odds': 41, 'obvious': 41, 'fans': 40, 'era': 40, 'upon': 40, 'usually': 40, 'being': 40, 'want': 40, 'insight': 40, 'anything': 40, 'TV': 40, 'career': 40, 'now': 40, 'change': 40, 'call': 39, 'tender': 39, 'whole': 39, 'fairly': 39, 'why': 39, 'road': 39, 'flawed': 39, 'thinking': 39, 'title': 38, 'despite': 38, 'theater': 38, 'dark': 38, 'then': 38, 'earnest': 38, 'stars': 38, 'broken': 38, 'cliched': 37, 'becomes': 37, 'takes': 37, 'subject': 37, 'jokes': 37, 'frame': 37, 'nice': 37, 'possibly': 37, 'my': 37, 'rip-off': 37, 'part': 37, 'There': 36, 'cinematic': 36, 'subtly': 36, 'Steven': 36, 'examination': 36, 'eyes': 36, 'artist': 36, 'me': 36, 'nature': 36, 'concept': 36, 'silent': 36, 'Sandler': 36, 'manages': 36, 'epic': 35, 'serious': 35, 'Mr.': 35, \"'d\": 35, 'against': 35, 'feature': 35, 'cartoon': 35, 'above': 35, 'ones': 35, 'predictable': 35, 'difficult': 35, 'watch': 35, 'events': 35, 'forces': 34, 'relationship': 34, 'where': 34, 'delivers': 34, 'relationships': 34, 'production': 34, 'were': 34, 'least': 34, 'middle': 34, 'cynical': 34, 'suspense': 34, 'target': 34, 'half': 34, 'matter': 34, 'step': 34, 'novel': 34, 'wanted': 34, 'Girl': 34, 'attempt': 34, 'York': 33, 'slice': 33, 'pleasure': 33, 'visually': 33, 'years': 33, 'dull': 33, 'message': 33, 'rich': 33, 'holiday': 33, 'small': 33, 'gags': 33, 'white': 33, 'three': 33, 'truth': 33, 'spirit': 33, 'period': 33, 'mess': 32, 'sometimes': 32, 'study': 32, 'interested': 32, 'unsettling': 32, 'enjoy': 32, 'art': 32, 'melodrama': 32, 'already': 32, 'strength': 32, 'tell': 32, 'voice': 32, 'occasionally': 31, 'woman': 31, 'case': 31, 'considerable': 31, 'whatever': 31, 'avoid': 31, 'Do': 31, 'If': 31, 'David': 31, 'New': 31, 'problem': 31, 'school': 31, 'Greene': 31, 'contrived': 31, 'filmmakers': 31, 'tone': 31, 'guessing': 31, 'style': 31, 'Dawson': 31, 'beautifully': 31, 'moviegoers': 31, 'national': 31, 'surprising': 31, 'flat': 31, 'book': 31, 'ca': 31, 'personal': 31, 'remake': 31, 'reality': 31, 'poetry': 30, 'lack': 30, 'gay': 30, 'About': 30, 'wonderful': 30, 'humane': 30, 'seem': 30, 'cheap': 30, 'used': 30, 'homage': 30, 'themes': 30, 'sit': 30, 'idea': 30, \"'ll\": 30, 'away': 30, 'given': 30, 'fantasies': 30, 'hours': 30, 'laughing': 30, 'stylish': 30, 'truly': 30, 'crowd': 30, 'black': 30, 'genre': 30, 'gorgeous': 29, 'apart': 29, 'different': 29, 'horrifying': 29, 'smart': 29, 'skin': 29, 'Spielberg': 29, 'bottom': 29, 'neither': 29, 'equivalent': 29, 'John': 29, 'Theater': 29, 'putting': 29, 'break': 29, 'pointless': 29, 'destruction': 29, 'episode': 29, 'values': 29, 'laugh': 29, 'creepy': 29, 'worthy': 29, 'among': 29, 'appear': 29, 'value': 29, 'seat': 29, 'help': 29, 'ambitious': 29, 'star': 29, 'easy': 29, 'satire': 28, 'satisfying': 28, 'attempts': 28, 'across': 28, 'thoughtful': 28, 'power': 28, 'appreciate': 28, 'viewer': 28, 'images': 28, 'cool': 28, 'fighting': 28, 'form': 28, 'whose': 28, 'several': 28, 'animation': 28, 'present': 28, 'Chris': 28, 'entertainment': 28, 'foreign': 28, 'Rock': 28, 'passion': 28, 'ordinary': 28, 'telling': 28, 'piece': 28, '$': 28, 'crude': 28, 'escape': 28, 'suburban': 28, 'older': 28, 'gentle': 28, 'British': 28, 'house': 27, 'structure': 27, 'midnight': 27, 'ugly': 27, 'diversion': 27, 'brilliant': 27, 'DVD': 27, 'tired': 27, 'universal': 27, 'parents': 27, 'paper': 27, 'elements': 27, 'cold': 27, 'deserves': 27, 'goofy': 27, 'further': 27, 'talent': 27, 'based': 27, 'use': 27, 'African-Americans': 27, 'India': 27, 'done': 27, 'existed': 27, 'fantasy': 27, 'amounts': 26, 'try': 26, 'Wild': 26, 'ends': 26, 'hurt': 26, 'looking': 26, 'wrong': 26, 'directed': 26, 'product': 26, 'portrait': 26, 'released': 26, 'fall': 26, 'emotionally': 26, 'blown': 26, 'humorous': 26, 'pictures': 26, 'revenge': 26, 'directors': 26, 'dead': 26, 'anyone': 26, 'implausible': 26, 'doing': 26, 'leaves': 26, 'dry': 26, 'eye': 26, 'sign': 26, 'politics': 26, 'Good': 26, 'behind': 26, 'sitting': 25, 'You': 25, 'Chabrol': 25, 'generic': 25, 'deeply': 25, 'fails': 25, 'solid': 25, 'revealed': 25, 'riveting': 25, 'precious': 25, 'clad': 25, 'toward': 25, 'utterly': 25, 'plotting': 25, 'comedies': 25, 'Not': 25, 'bears': 25, 'loss': 25, 'direction': 25, 'depth': 25, 'plenty': 25, 'magical': 25, 'grand': 25, 'locations': 25, 'mysterious': 25, 'adventure': 25, 'sentimental': 25, 'HIV': 25, 'series': 24, 'thick': 24, 'chance': 24, 'inept': 24, 'everything': 24, 'date': 24, 'Vincent': 24, 'French': 24, 'honestly': 24, 'beneath': 24, 'thought': 24, 'struggle': 24, 'Sarah': 24, 'growing': 24, 'weight': 24, 'daring': 24, 'touch': 24, 'witness': 24, 'coming-of-age': 24, 'possibilities': 24, 'quirky': 24, 'working': 24, 'behavior': 24, 'darker': 24, 'said': 24, 'players': 24, 'nearly': 23, 'dream': 23, 'throw': 23, 'charmer': 23, 'As': 23, 'playing': 23, \"'m\": 23, 'deep': 23, 'Mark': 23, 'accents': 23, 'sexy': 23, 'moral': 23, 'Lawrence': 23, 'entirely': 23, 'sudden': 23, 'involved': 23, 'having': 23, 'accurate': 23, 'head': 23, 'heavy': 23, 'incomprehensible': 23, 'base': 23, 'weak': 23, 'complex': 23, 'play': 23, 'teenage': 23, 'found': 23, 'awkwardness': 23, 'basic': 23, 'walk': 23, 'mainstream': 23, 'become': 23, 'breathtakingly': 23, 'cohesion': 23, 'surface': 23, 'soul': 23, 'always': 23, 'second': 23, 'each': 23, 'effects': 23, 'formula': 23, 'endearing': 23, 'raw': 23, 'delights': 23, 'badly': 23, 'historical': 23, 'conflicts': 23, 'Rice': 23, 'Secret': 23, 'intelligence': 23, 'inside': 23, 'substance': 23, 'recommend': 22, 'cliches': 22, 'easily': 22, 'keeps': 22, 'decent': 22, 'memorable': 22, 'particularly': 22, 'ties': 22, 'impossible': 22, 'lacks': 22, 'once': 22, 'virtues': 22, 'affecting': 22, 'comprehension': 22, 'handle': 22, 'budget': 22, 'America': 22, 'bunch': 22, 'sexual': 22, 'impression': 22, 'With': 22, 'extended': 22, 'generous': 22, 'franchise': 22, 'convincing': 22, 'hostile': 22, 'conventional': 22, 'hour': 22, 'variety': 22, 'bring': 22, 'brothers': 22, 'reacting': 22, 'protagonists': 22, 'pleaser': 22, 'beat': 22, 'detailed': 22, 'positive': 22, 'tragic': 22, 'beings': 22, 'million': 22, 'sell': 22, 'tragedy': 21, 'soap': 21, 'crisis': 21, 'indie': 21, 'publishing': 21, 'during': 21, 'More': 21, 'relic': 21, 'myth': 21, 'gently': 21, 'Peter': 21, 'pat': 21, 'denouement': 21, 'execution': 21, 'screenwriters': 21, 'resonant': 21, 'live': 21, 'fighter': 21, 'please': 21, 'nor': 21, 'spiritual': 21, 'survival': 21, 'bonus': 21, 'single': 21, 'death': 21, 'sort': 21, 'string': 21, 'taste': 21, 'told': 21, 'left': 21, 'stories': 21, 'turned': 21, 'campaign': 21, 'moviemaking': 21, 'highest': 21, 'Carvey': 21, 'unsuspecting': 21, 'finding': 21, 'sadly': 21, 'recklessness': 21, 'college': 21, 'affair': 21, 'true': 21, 'simplistic': 21, 'artificial': 21, 'create': 21, 'startling': 21, 'motion': 21, 'hope': 21, 'charming': 21, 'struggled': 21, 'inventiveness': 21, 'Chan': 21, 'hardened': 21, 'ranks': 21, 'Seattle': 21, 'Music': 21, 'quiet': 20, 'leave': 20, 'latest': 20, 'aims': 20, 'early': 20, 'experimental': 20, 'subjects': 20, 'corny': 20, 'achievement': 20, 'One': 20, '3000': 20, 'Very': 20, 'Important': 20, 'pinnacle': 20, 'bodies': 20, 'psycho': 20, \"'60s\": 20, 'Though': 20, 'saw': 20, 'sophisticated': 20, 'familiar': 20, 'week': 20, 'huge': 20, 'wrestling': 20, 'flicks': 20, 'random': 20, 'essentially': 20, 'bilked': 20, 'confident': 20, 'poem': 20, 'social': 20, 'looks': 20, 'retaliation': 20, 'insane': 20, 'somewhat': 20, 'level': 20, 'achieves': 20, 'first-time': 20, 'connect': 20, 'project': 20, 'able': 20, 'believable': 20, 'strictly': 20, 'shape-shifting': 20, 'perils': 20, 'broad': 20, 'Seven': 20, 'scary': 20, 'directorial': 20, 'sick': 20, 'urgently': 20, 'mercy': 20, 'purely': 20, 'poor': 20, 'movie-star': 20, 'triumphs': 20, 'tepid': 20, 'equal': 20, 'premise': 20, '?!?': 20, 'Sleepless': 20, 'none': 19, 'opera': 19, 'perverse': 19, 'offering': 19, 'himself': 19, 'actually': 19, 'sounding': 19, 'boy': 19, 'letting': 19, 'teeth': 19, 'moment': 19, 'ham-fisted': 19, 'roll': 19, 'pool': 19, 'ask': 19, 'B': 19, 'sets': 19, 'potent': 19, 'outtakes': 19, 'Catholic': 19, 'low': 19, 'heed': 19, 'demanding': 19, 'chimps': 19, 'course': 19, 'superior': 19, 'staring': 19, 'terrific': 19, 'recycled': 19, 'business': 19, 'superficial': 19, 'hard-bitten': 19, 'publicity': 19, 'department': 19, 'Robert': 19, 'constructs': 19, 'proceedings': 19, 'set': 19, 'reaching': 19, 'day': 19, 'shallow': 19, 'cleverness': 19, 'piffle': 19, 'hot': 19, 'hell': 19, 'suck': 19, 'flaws': 19, 'written': 19, 'desperately': 19, 'possible': 19, 'internet': 19, 'otherworldly': 19, 'energies': 19, 'must': 19, 'Spader': 19, 'poignant': 19, 'lingering': 19, 'issue': 19, 'standards': 19, 'energy': 19, 'Romanek': 19, 'families': 19, 'chaos': 19, 'evocative': 19, 'Bad': 19, 'tiny': 19, 'revelations': 19, 'next': 19, 'potentially': 19, 'close': 19, 'artful': 19, 'treat': 19, 'caricatures': 19, 'distinctly': 19, 'Leery': 19, 'path': 18, 'oddest': 18, 'heroes': 18, 'charm': 18, 'five': 18, 'meaty': 18, 'drawn': 18, 'lie': 18, 'bygone': 18, 'spooky': 18, 'mention': 18, 'writer': 18, 'victim': 18, 'cost': 18, 'compromise': 18, 'Science': 18, 'prove': 18, 'details': 18, 'open': 18, 'scrapbook': 18, 'scruffy': 18, 'Legged': 18, 'Freaks': 18, 'song': 18, 'twisty': 18, 'yarn': 18, 'teen': 18, 'sequel': 18, 'tiresome': 18, 'boys': 18, 'journalists': 18, 'add': 18, 'bleak': 18, 'auteur': 18, 'interest': 18, 'freshness': 18, 'effort': 18, 'hothouse': 18, 'situation': 18, 'offensive': 18, 'writing': 18, 'clinic': 18, 'Gyllenhaal': 18, 'hoped': 18, 'defeated': 18, 'extremely': 18, 'context': 18, 'code': 18, 'racial': 18, 'insensitivity': 18, 'Shining': 18, 'contemporary': 18, 'R.': 18, 'Nebrida': 18, 'ironic': 18, 'Queen': 18, 'delicately': 18, 'vintage': 18, 'exit': 18, 'Anthony': 18, 'Hopkins': 18, 'Eastern': 18, 'property': 18, 'note': 18, 'Adam': 18, 'pity': 18, 'Big': 18, 'Birthday': 18, 'negative': 18, 'betrayal': 17, 'Kung': 17, 'Pow': 17, 'perspective': 17, 'complications': 17, 'self-indulgent': 17, 'pacing': 17, 'soon': 17, 'team': 17, 'usual': 17, 'role': 17, 'Reno': 17, 'monstrous': 17, 'lunatic': 17, 'pretty': 17, 'affection': 17, 'memory': 17, 'Mystery': 17, 'believe': 17, 'knock': 17, 'fit': 17, 'land': 17, 'kid': 17, 'Myrtle': 17, 'Beach': 17, 'lunch': 17, 'rush': 17, 'theatrically': 17, 'created': 17, 'Eight': 17, 'drag': 17, 'gem': 17, 'hero': 17, 'flash': 17, 'uplifting': 17, 'X': 17, 'evoke': 17, 'splendor': 17, 'soulful': 17, 'nuances': 17, 'penance': 17, 'learning': 17, 'improve': 17, 'below': 17, 'constant': 17, 'Some': 17, 'atmosphere': 17, 'Woo': 17, 'Solondz': 17, 'dumb': 17, 'revealing': 17, 'alienation': 17, 'sustain': 17, 'reaction': 17, 'merit': 17, 'hysterics': 17, 'logic': 17, 'City': 17, 'annoying': 17, 'teendom': 17, 'lust': 17, 'ethereal': 17, 'female': 17, 'failed': 17, 'runs': 17, 'gripping': 17, 'intensity': 17, 'Jaglom': 17, 'definitely': 17, 'towards': 17, 'four': 17, 'nudity': 17, 'Schmidt': 17, 'self-conscious': 17, 'scrutiny': 17, 'trifle': 17, 'notice': 17, 'insultingly': 17, 'meandering': 17, 'appeal': 17, 'brand-new': 17, 'lyrical': 17, 'along': 17, 'charismatic': 17, 'Krige': 17, 'cloying': 17, 'ham': 17, 'gun': 17, 'firing': 17, 'Men': 17, 'indie-heads': 17, 'dancing': 17, '1.8': 17, 'endlessly': 17, 'challenging': 17, 'Pauline': 17, 'VH1': 17, 'Behind': 17, 'Godard': 17, 'artistic': 17, 'transcendence': 17, 'Merchant': 16, 'Bartlett': 16, 'Familiar': 16, 'Quotations': 16, 'joy': 16, 'distort': 16, 'Like': 16, 'expect': 16, 'indication': 16, 'Wilde': 16, 'followed': 16, 'shocker': 16, 'ride': 16, 'sure': 16, 'war': 16, 'Irish': 16, 'poet': 16, 'pop': 16, 'James': 16, 'PG-13': 16, 'rating': 16, 'sanguine': 16, 'involving': 16, 'fascinating': 16, 'cracker': 16, 'barrel': 16, 'second-guess': 16, 'Lee': 16, 'society': 16, 'wisecracking': 16, 'masterful': 16, 'puts': 16, 'dupe': 16, 'vulgar': 16, 'diner': 16, 'downright': 16, 'intoxicating': 16, 'Dangerous': 16, 'Game': 16, 'producers': 16, 'shoulders': 16, 'all-enveloping': 16, 'depression': 16, 'size': 16, 'nostalgic': 16, 'degree': 16, 'insights': 16, 'routine': 16, 'blank': 16, 'confused': 16, 'blaxploitation': 16, 'plane': 16, 'core': 16, 'recognized': 16, 'Freundlich': 16, 'seeing': 16, 'inspiring': 16, 'particular': 16, 'airhead': 16, 'duty': 16, 'winds': 16, 'pays': 16, 'Cat': 16, 'respect': 16, 'talented': 16, 'beauty': 16, 'Payne': 16, 'stand': 16, 'final': 16, 'Crudup': 16, 'exaggerated': 16, 'animated': 16, 'ago': 16, 'women': 16, 'Thing': 16, 'teenagers': 16, 'Sugarman': 16, 'visualize': 16, 'schizophrenia': 16, 'saccharine': 16, 'compromised': 16, 'summer-camp': 16, 'innuendo': 16, 'pasty': 16, 'lumpen': 16, 'started': 16, 'toast': 16, '90': 16, 'heard': 16, 'giant': 16, 'pretensions': 16, 'parade': 16, 'Japan': 16, 'doles': 16, 'Ballot': 16, 'Middle': 16, 'souls': 16, 'Haynes': 16, 'decade': 16, 'Station': 16, '3D': 16, 'Alice': 16, 'cheek': 16, 'slo-mo': 16, 'moods': 16, 'old-fashioned': 16, 'inevitable': 16, 'urges': 16, 'talk': 16, 'maze': 16, 'simpleminded': 16, 'frightening': 16, 'Lopez': 16, 'no-brainer': 16, 'devices': 16, 'obsession': 16, 'seek': 16, 'naturally': 16, 'manipulative': 15, 'Earnest': 15, 'That': 15, 'appropriate': 15, 'sensational': 15, 'Mamet': 15, 'drinker': 15, 'movements': 15, 'under': 15, 'evil': 15, 'credits': 15, 'heartfelt': 15, 'viewing': 15, 'U.N.': 15, 'preemptive': 15, 'strike': 15, 'saved': 15, 'lovefest': 15, 'element': 15, 'storylines': 15, 'Mostly': 15, 'losing': 15, 'cause': 15, 'S.C.': 15, 'When': 15, 'discerned': 15, 'fights': 15, 'perfectly': 15, 'knows': 15, 'Shainberg': 15, 'adaptation': 15, 'violence': 15, 'crafted': 15, 'Games': 15, 'unintentional': 15, 'revel': 15, 'brings': 15, 'region': 15, 'offer': 15, 'instance': 15, '2002': 15, 'offbeat': 15, 'chills': 15, 'public': 15, 'complaint': 15, 'massacre': 15, 'debut': 15, 'Spears': 15, 'jumble': 15, 'joke': 15, 'celebration': 15, 'painfully': 15, 'forced': 15, 'false': 15, 'Holly': 15, 'survive': 15, 'seriously': 15, 'redundant': 15, 'People': 15, 'campfire': 15, 'willies': 15, 'beliefs': 15, 'Don': 15, 'King': 15, 'unique': 15, 'suspenseful': 15, 'today': 15, 'Tarantino': 15, 'win': 15, 'brushes': 15, 'naked': 15, 'consuming': 15, 'self-absorption': 15, 'intriguing': 15, 'Gantz': 15, 'gasping': 15, 'wearer': 15, 'superman': 15, 'disappointing': 15, 'gutless': 15, 'Laurice': 15, 'Guillen': 15, '2': 15, 'plain': 15, 'mountain': 15, 'crime': 15, 'took': 15, 'terrorists': 15, 'hair': 15, 'design': 15, 'wiser': 15, 'underdogs': 15, 'worst': 15, 'Space': 15, 'circle': 15, 'Warrior': 15, 'glass-shattering': 15, 'vidgame': 15, 'pit': 15, 'Thomas': 15, 'striking': 15, 'hardass': 15, 'unhidden': 15, 'loves': 15, 'human-scale': 15, 'fallible': 15, 'self-preservation': 15, 'Magazine': 15, 'cutting-edge': 15, 'guess': 15, 'burn': 15, 'moviegoing': 15, 'junior': 15, 'scientists': 15, 'fish': 15, 'lovers': 15, 'chair': 15, 'intact': 15, 'imagery': 15, 'rediscovering': 15, 'wartime': 15, 'performers': 15, 'liked': 15, 'satiric': 15, 'cheery': 15, 'tv': 15, 'scripts': 15, 'records': 15, 'landmark': 15, 'meander': 15, 'resistance': 15, 'thrilling': 14, 'deceit': 14, 'Being': 14, 'reading': 14, 'ways': 14, 'ramifications': 14, 'mongrel': 14, 'pep': 14, 'occasional': 14, 'They': 14, 'powers': 14, 'couple': 14, 'refreshing': 14, 'cooler': 14, 'sci-fi': 14, 'fears': 14, 'richer': 14, 'violent': 14, 'Mary': 14, 'actress': 14, 'solution': 14, 'Disney': 14, 'Burr': 14, 'Steers': 14, 'empty': 14, 'theatres': 14, 'company': 14, 'prisoner': 14, 'aid': 14, 'Martin': 14, 'circumstances': 14, 'Martha': 14, 'adrenaline': 14, 'jolt': 14, 'completely': 14, 'pulp': 14, 'Too': 14, 'sophomoric': 14, 'coolness': 14, 'lush': 14, 'points': 14, 'mind': 14, 'defensible': 14, 'quality': 14, 'magic': 14, 'stooping': 14, 'House': 14, 'deal': 14, 'private': 14, 'schools': 14, 'heavy-handed': 14, 'unfolds': 14, 'process': 14, 'let': 14, 'appointed': 14, 'posturing': 14, 'bland': 14, 'happy': 14, 'remember': 14, 'rock': 14, 'linking': 14, 'earlier': 14, 'rarely': 14, '10': 14, 'good-natured': 14, 'intellectual': 14, 'professional': 14, 'injuries': 14, 'sounds': 14, 'Despite': 14, 'Britney': 14, 'country': 14, 'injects': 14, 'game': 14, 'rely': 14, 'begins': 14, 'remains': 14, 'South': 14, 'structures': 14, 'whom': 14, 'passionate': 14, 'fabricated': 14, 'especially': 14, 'Marina': 14, 'Carpenter': 14, 'Hunger': 14, 'fight': 14, 'excellent': 14, 'Sonny': 14, 'Miller': 14, 'general': 14, 'SECRETARY': 14, 'girl': 14, 'musical': 14, 'Washington': 14, 'unconventional': 14, 'soccer': 14, 'hooliganism': 14, 'Quentin': 14, 'climactic': 14, 'shootout': 14, 'Paul': 14, 'titular': 14, 'community': 14, 'pokepie': 14, 'hat': 14, 'Joan': 14, 'prefeminist': 14, 'plight': 14, 'allow': 14, 'charms': 14, 'hastily': 14, 'leading': 14, 'dispassionate': 14, 'Kevin': 14, 'screenwriting': 14, 'textbook': 14, 'fast-paced': 14, 'shaped': 14, 'calibrated': 14, 'felt': 14, 'ponder': 14, 'sake': 14, 'half-sleep': 14, 'Iranian': 14, 'protagonist': 14, 'purpose': 14, 'outer': 14, 'dealing': 14, 'Borg': 14, 'inspirational': 14, 'tidings': 14, 'cheese': 14, 'debt': 14, 'Road': 14, '88-minute': 14, 'actual': 14, 'buck': 14, 'lobby': 14, 'talents': 14, 'surprise': 14, 'ladies': 14, 'painted': 14, 'Rembrandt': 14, 'sympathy': 14, 'dissecting': 14, 'sum': 14, 'ringing': 14, 'person': 14, 'institution': 14, 'concerned': 14, 'documenting': 14, 'astonishing': 14, 'ESPN': 14, 'demographic': 14, 'water': 14, 'triangles': 14, 'spring': 14, 'grown-up': 14, 'arc': 14, 'Holocaust': 14, 'Herzog': 14, 'parts': 14, 'pretentious': 14, 'musty': 14, 'madness': 14, 'naughty': 14, 'tranquil': 14, 'Begley': 14, 'slack': 14, 'season': 14, 'nation': 14, 'Bridge': 14, 'wave': 14, 'murder': 13, 'realization': 13, 'martial-arts': 13, 'extravagant': 13, 'welcome': 13, 'modest': 13, 'Kong': 13, 'gag': 13, 'While': 13, 'Full': 13, 'Monty': 13, 'prevention': 13, 'blame': 13, 'playwright': 13, 'lead': 13, 'cradles': 13, 'veiling': 13, 'tension': 13, 'Eric': 13, 'hack': 13, 'bathtub': 13, 'courage': 13, 'instantly': 13, 'recognizable': 13, 'Dummies': 13, 'guide': 13, 'mixed': 13, 'surreal': 13, 'sequels': 13, 'room': 13, 'permission': 13, 'consistently': 13, 'self-glorified': 13, 'sequence': 13, 'perfect': 13, 'captures': 13, 'unlikely': 13, 'Harrison': 13, 'refreshingly': 13, 'triumph': 13, 'Ferrara': 13, 'thrillers': 13, 'speeds': 13, 'rare': 13, 'feature-length': 13, 'running': 13, 'shocks': 13, 'sharp': 13, 'incompetent': 13, 'Evokes': 13, 'Heist': 13, 'parallels': 13, 'Indian': 13, 'domination': 13, 'trusted': 13, 'workable': 13, 'primer': 13, 'vent': 13, 'smiling': 13, 'madmen': 13, 'idealism': 13, 'cuss': 13, 'greatest': 13, 'unknown': 13, 'computer': 13, 're-creations': 13, 'outweighs': 13, 'row': 13, 'vacuum': 13, 'outrageousness': 13, 'disappointingly': 13, 'thin': 13, 'London': 13, 'counterparts': 13, 'creative': 13, 'explore': 13, 'practically': 13, 'empathy': 13, 'likely': 13, 'neat': 13, 'realistic': 13, 'unfolding': 13, 'over-the-top': 13, 'master': 13, 'lifts': 13, 'expectation': 13, 'How': 13, 'pushes': 13, 'overplayed': 13, 'scene': 13, 'stab': 13, 'double-barreled': 13, 'admirable': 13, 'intimacy': 13, 'hearts': 13, 'sands': 13, 'improbable': 13, 'drop': 13, 'pants': 13, 'interpretation': 13, 'unnecessary': 13, 'someplace': 13, 'thrown-together': 13, 'high-tech': 13, 'tux': 13, 'transforms': 13, 'Bride': 13, 'previous': 13, 'taxicab': 13, 'Arnie': 13, 'musclefest': 13, 'stunts': 13, 'animated-movie': 13, 'clocks': 13, 'self-awareness': 13, 'compels': 13, 'tortured': 13, 'boring': 13, 'fuss': 13, 'depleted': 13, 'yesterday': 13, 'fine': 13, 'wonder': 13, 'Jagjit': 13, 'Singh': 13, 'veteran': 13, 'painters': 13, 'personality': 13, 'overcome': 13, 'loneliness': 13, 'Payami': 13, 'evoking': 13, 'ditty': 13, 'documentaries': 13, 'refresh': 13, 'due': 13, 'outer-space': 13, 'originality': 13, 'lint': 13, 'cape': 13, 'nose': 13, 'opening': 13, 'romances': 13, 'bow': 13, 'prospect': 13, 'rival': 13, 'Bible': 13, 'parables': 13, 'greasy': 13, 'transformed': 13, 'Zemeckis': 13, 'underwear': 13, 'freshly': 13, 'Dong': 13, 'dynamic': 13, 'fling': 13, 'lapses': 13, 'lying': 13, 'pours': 13, 'evenings': 13, 'alienate': 13, 'healthy': 13, 'shapeless': 13, 'Zelda': 13, 'fate': 13, 'pretend': 13, 'drying': 13, 'teeming': 13, 'all-too-familiar': 13, 'shifting': 13, 'glass': 13, 'odour': 13, 'expiry': 13, 'acceptable': 13, 'middle-America': 13, 'check': 13, 'unacceptable': 13, 'Louis': 13, 'webcast': 13, \"'50s\": 13, 'sociology': 13, 'held': 13, 'hostage': 13, 'fare': 13, '30': 13, 'seconds': 13, 'Red': 13, 'tinny': 13, 'self-righteousness': 13, 'on-camera': 13, 'worn-out': 13, 'emptiness': 13, 'erotic': 13, 'goose': 12, 'Even': 12, 'Every': 12, 'childhood': 12, 'dreams': 12, 'Hong': 12, 'gambles': 12, 'frothing': 12, 'ex-girlfriend': 12, 'pedigree': 12, 'terms': 12, 'serve': 12, 'approach': 12, 'Miramax': 12, 'shelves': 12, 'aborted': 12, 'processed': 12, 'convolutions': 12, 'camera': 12, 'arriving': 12, 'Its': 12, 'delivered': 12, 'stoner': 12, 'wondering': 12, 'common': 12, 'through-line': 12, 'swimming': 12, 'All': 12, 'cinematographer': 12, 'shock': 12, 'distract': 12, 'scrape': 12, 'emphasizes': 12, 'macabre': 12, 'civic': 12, 'sketch': 12, 'postcard': 12, 'sumptuous': 12, 'stream': 12, 'endure': 12, 'champion': 12, 'promenade': 12, 'Just': 12, 'funnier': 12, 'fresh': 12, 'Them': 12, 'Tarantula': 12, 'romp': 12, 'law': 12, 'cut': 12, 'creatures': 12, 'bouts': 12, 'hopeful': 12, 'loosely-connected': 12, 'acting-workshop': 12, 'exercises': 12, 'conclusion': 12, 'familial': 12, 'lottery': 12, 'drawing': 12, 'memories': 12, 'Americans': 12, 'enthusiasm': 12, 'tool': 12, 'milquetoast': 12, 'typical': 12, 'Creek': 12, 'dumbed-down': 12, 'parable': 12, 'rhythms': 12, 'retro': 12, 'chord': 12, 'president': 12, 'single-handedly': 12, 'bungling': 12, 'expected': 12, 'pervasive': 12, 'mindset': 12, 'chew': 12, 'World': 12, 'Traveler': 12, 'grievous': 12, 'fact': 12, 'husband': 12, 'toothless': 12, 'addition': 12, 'concentrating': 12, 'spark': 12, 'fellow': 12, 'glib': 12, 'Boy': 12, '100': 12, 'extent': 12, 'atmospheric': 12, 'encounters': 12, 'ruthless': 12, 'cliques': 12, 'Allen': 12, 'passes': 12, 'lower-class': 12, 'alacrity': 12, 'dismissed': 12, 'provides': 12, 'nicely': 12, 'striving': 12, 'solipsism': 12, 'good-naturedness': 12, 'Deeds': 12, 'writer\\\\/director': 12, 'wary': 12, 'natives': 12, 'characterizations': 12, 'flashy': 12, 'sloppy': 12, 'Ghosts': 12, 'Mars': 12, 'prom': 12, 'dates': 12, 'wondrous': 12, 'outrage': 12, 'drug': 12, 'prejudices': 12, 'humans': 12, 'makings': 12, 'channel': 12, 'multilayered': 12, 'follow-your-dream': 12, 'moist': 12, 'throat': 12, 'humanly': 12, 'real-time': 12, 'roots': 12, 'remarkable': 12, 'scope': 12, 'palpable': 12, 'incessant': 12, 'cell': 12, 'phones': 12, 'log': 12, 'Academy': 12, 'air': 12, 'onscreen': 12, 'cop': 12, 'edge': 12, 'mix': 12, 'either': 12, 'pile': 12, 'Van': 12, 'realm': 12, 'simple': 12, 'cuteness': 12, 'Jay': 12, 'event': 12, 'gored': 12, 'bullfighters': 12, 'bedside': 12, 'vigils': 12, 'Seagal': 12, 'gems': 12, 'goth-vampire': 12, 'woe-is-me': 12, 'lifestyle': 12, 'immediate': 12, 'Leon': 12, 'Barlow': 12, 'decades': 12, 'tomorrow': 12, 'inexperienced': 12, 'unexceptional': 12, 'dentist': 12, 'drill': 12, 'machine': 12, 'explaining': 12, 'actions': 12, 'isolation': 12, 'Babak': 12, 'boldly': 12, 'fail': 12, 'Jackie': 12, 'inner': 12, 'begin': 12, 'extraordinary': 12, 'pick': 12, 'parsec': 12, 'shiny': 12, 'confined': 12, 'basest': 12, 'desires': 12, 'inclination': 12, 'fumes': 12, 'vision': 12, 'anachronistic': 12, 'pasts': 12, 'tensions': 12, 'feat': 12, 'starts': 12, 'comparatively': 12, 'subscription': 12, 'subculture': 12, 'Vampire': 12, 'Chronicles': 12, 'ultimate': 12, 'coulda': 12, 'remembered': 12, 'blueprint': 12, 'Clayburgh': 12, 'reefs': 12, 'astoundingly': 12, 'coaster': 12, 'needs': 12, 'cerebral': 12, 'free': 12, 'rein': 12, 'ownership': 12, 'iced': 12, 'tea': 12, 'limp': 12, 'chiaroscuro': 12, 'bits': 12, 'Bedknobs': 12, 'Sand': 12, 'masculine': 12, 'persona': 12, 'pass': 12, 'ache': 12, 'France': 12, '1790': 12, 'aliens': 12, 'slightly': 12, 'unthinkable': 12, 'unmentionable': 12, 'helped': 12, 'piano': 12, 'soundtrack': 12, 'Theatre': 12, 'notion': 12, 'defiance': 12, 'rooted': 11, 'hilarity': 11, 'Oedekerk': 11, 'remain': 11, 'mythic': 11, 'West': 11, 'exists': 11, 'party': 11, 'serious-minded': 11, 'impeccable': 11, 'clearly': 11, 'exercise': 11, 'computer-generated': 11, 'error': 11, 'gritty': 11, 'totally': 11, 'unexpected': 11, 'So': 11, 'disagree': 11, 'celebrated': 11, 'coming': 11, '60': 11, '!': 11, 'deconstruction': 11, 'substitutes': 11, 'Christopher': 11, 'Doyle': 11, 'Quiet': 11, 'ideas': 11, 'IMAX': 11, 'lazy': 11, 'blowing': 11, 'crass': 11, 'tenacious': 11, 'tries': 11, 'Masterpiece': 11, 'dramaturgy': 11, 'swirling': 11, 'rapids': 11, 'wallflower': 11, 'delectable': 11, 'paid': 11, 'creating': 11, 'living': 11, 'humanity': 11, 'since': 11, 'beaten': 11, '1950s': 11, 'hellish': 11, 'conditions': 11, 'bigger': 11, 'oddballs': 11, 'aware': 11, 'example': 11, 'soothe': 11, 'stroke': 11, 'tryingly': 11, 'hole': 11, 'screaming': 11, 'convoluted': 11, 'adolescent': 11, 'regular': 11, 'upscale': 11, 'hungry': 11, 'result': 11, 'achieved': 11, 'territory': 11, 'hardly': 11, 'chase': 11, 'renowned': 11, 'allows': 11, 'eccentric': 11, 'megalomaniac': 11, 'bent': 11, 'superfluous': 11, '10th-grade': 11, 'blend': 11, 'overripe': 11, 'surfacey': 11, 'sloppily': 11, 'open-faced': 11, 'tier': 11, 'doze': 11, 'defiantly': 11, 'wondrously': 11, 'gifted': 11, 'artists': 11, 'therapy': 11, 'strangely': 11, 'Michell': 11, 'severely': 11, 'shadows': 11, 'comedic': 11, 'sung': 11, 'carol': 11, 'threat': 11, 'lurks': 11, 'musings': 11, 'boundaries': 11, 'obscure': 11, 'bullet': 11, 'ballet': 11, 'Mendes': 11, 'past': 11, 'Weil': 11, 'contemplation': 11, 'psychotic': 11, 'What': 11, 'questions': 11, 'heat': 11, 'prince': 11, 'responsible': 11, 'gorgeously': 11, 'life-changing': 11, 'order': 11, 'governs': 11, 'intimate': 11, 'sensual': 11, 'garbage': 11, 'breaking': 11, 'codes': 11, 'heady': 11, 'itch': 11, 'surgeon': 11, 'mends': 11, 'progressed': 11, 'Wayne': 11, 'screams': 11, 'workaday': 11, 'inertia': 11, 'goofiness': 11, 'shores': 11, 'crassly': 11, 'reductive': 11, 'mysteries': 11, 'involves': 11, 'investment': 11, 'storyteller': 11, 'Shiner': 11, 'E.T.': 11, 'misunderstood': 11, 'prism': 11, 'terribly': 11, 'sympathetic': 11, 'authentic': 11, 'operating': 11, 'Michael': 11, 'Stewart': 11, 'trash': 11, 'twitchy': 11, '95-minute': 11, 'commercial': 11, 'NBA': 11, 'properties': 11, 'virtually': 11, 'commentary': 11, 'governments': 11, 'lump': 11, 'parent-child': 11, 'anchoring': 11, 'subtlety': 11, 'boom': 11, 'essential': 11, 'innocent': 11, 'fanciful': 11, 'Awards': 11, 'cute': 11, 'deadpan': 11, 'biblical': 11, 'ferocity': 11, 'subtle': 11, 'motivated': 11, 'closer': 11, 'expressing': 11, 'otherness': 11, 'plus': 11, 'essence': 11, 'Father': 11, 'knowledge': 11, 'worse': 11, 'laugh-a-minute': 11, 'resonance': 11, 'following': 11, 'comatose': 11, 'ballerinas': 11, 'kinky': 11, 'subtlest': 11, 'question': 11, 'retreat': 11, 'implications': 11, 'done-to-death': 11, 'Anne': 11, 'Of': 11, 'tolerate': 11, 'amazingly': 11, 'powerfully': 11, 'Randolph': 11, 'Hearst': 11, 'undone': 11, 'Univac-like': 11, 'Gulzar': 11, 'Sly': 11, 'Stallone': 11, 'bustling': 11, 'undercurrent': 11, 'spectacle': 11, 'playful': 11, 'respite': 11, 'grind': 11, 'seeming': 11, 'canny': 11, 'evening': 11, 'multiplex': 11, 'viewed': 11, 'Generations': 11, 'strange': 11, 'White': 11, 'Band': 11, 'impressive': 11, 'recently': 11, 'doses': 11, 'con': 11, 'vivid': 11, 'unapologetically': 11, 'drugs': 11, 'captivated': 11, 'Silver': 11, 'produce': 11, 'cavorting': 11, 'two-dimensional': 11, 'imagined': 11, 'glory': 11, 'shtick': 11, 'think': 11, 'High': 11, 'Crimes': 11, 'sadness': 11, 'information': 11, 'bars': 11, 'jugglers': 11, 'schoolers': 11, 'Palestinian': 11, 'meaningful': 11, 'revelation': 11, 'interminable': 11, 'swinging': 11, 'installment': 11, 'reunion': 11, 'Ms.': 11, 'urban': 11, 'pact': 11, 'fondly': 11, 'hundreds': 11, 'bidder': 11, 'identity': 11, 'middle-aged': 11, 'romance': 11, 'Tambor': 11, 'altogether': 11, 'filming': 11, 'faith': 11, 'roller': 11, 'labour': 11, 'redefinition': 11, 'domestic': 11, 'unit': 11, 'wines': 11, 'Ivory': 11, 'productions': 11, '1971': 11, 'Broomsticks': 11, 'dealt': 11, 'Cal': 11, 'aggressive': 11, 'A-list': 11, 'ribcage': 11, 'Dana': 11, 'acts': 11, 'Belgium': 11, 'shatters': 11, 'frustrating': 11, 'patchwork': 11, 'uneasy': 11, 'marriage': 11, 'novelty': 11, 'newsreels': 11, 'grossly': 11, 'underestimated': 11, 'sacrificed': 11, '90-minute': 11, 'opened': 11, 'United': 11, 'Under': 11, 'drown': 11, 'Ralph': 11, 'Fiennes': 11, 'amuses': 10, 'But': 10, 'Snow': 10, 'Dogs': 10, 'unless': 10, 'escapism': 10, 'proves': 10, 'youth': 10, 'judgment': 10, 'defend': 10, 'Windtalkers': 10, 'smiles': 10, 'Schnitzler': 10, 'paralyzed': 10, 'runaway': 10, 'success': 10, 'substitutable': 10, 'terror': 10, 'fatal': 10, 'directions': 10, 'freakish': 10, 'weirdo': 10, 'spectacularly': 10, 'shiver-inducing': 10, 'pages': 10, 'zingers': 10, 'largely': 10, 'developments': 10, 'cliche': 10, 'forth': 10, 'flickering': 10, 'reminders': 10, 'bind': 10, 'garner': 10, 'ambition': 10, 'melodramatic': 10, 'predecessors': 10, 'Phillip': 10, 'Noyce': 10, 'delicate': 10, 'forcefulness': 10, 'prose': 10, 'technical': 10, 'proficiency': 10, 'shows': 10, 'number': 10, 'tumbleweeds': 10, 'Does': 10, 'Saddam': 10, 'Hussein': 10, 'Malcolm': 10, 'stylized': 10, 'religious': 10, 'ethics': 10, 'weird': 10, 'wills': 10, 'yourself': 10, 'surge': 10, 'innocence': 10, 'budding': 10, 'demons': 10, 'within': 10, 'seamless': 10, 'blockbuster': 10, 'revelatory': 10, 'honest': 10, 'high-concept': 10, 'dared': 10, 'idealistic': 10, 'chooses': 10, 'pay': 10, 'carries': 10, 'wounds': 10, 'amazing': 10, 'slapstick': 10, 'mug': 10, 'shots': 10, 'clumsy': 10, 'scientific': 10, 'fully': 10, 'rhapsodizes': 10, 'capability': 10, 'old-time': 10, 'good-bad': 10, 'toxic': 10, 'chemicals': 10, 'journey': 10, 'brilliantly': 10, 'played': 10, 'employ': 10, 'Cinema': 10, 'Paradiso': 10, 'amiable': 10, 'handed': 10, 'plainly': 10, 'unfortunately': 10, 'preposterous': 10, 'extremes': 10, 'Fire': 10, 'coma-like': 10, 'state': 10, 'smug': 10, 'self-satisfaction': 10, 'associated': 10, 'swordfights': 10, 'super-wealthy': 10, 'depressing': 10, 'ruthlessly': 10, 'pained': 10, 'wound': 10, 'slasher': 10, 'shown': 10, '=': 10, 'misery': 10, 'news': 10, 'urge': 10, 'quest': 10, 'hollow': 10, 'Roger': 10, 'wear': 10, 'handsome': 10, 'much-needed': 10, 'levity': 10, 'overall': 10, 'philosophy': 10, 'messing': 10, 'After': 10, 'ver': 10, 'predictability': 10, 'lector': 10, 'dedication': 10, 'Austin': 10, 'Powers': 10, 'Goldmember': 10, 'generate': 10, 'mean-spirited': 10, 'popcorn': 10, 'cable': 10, 'accessibility': 10, 'appears': 10, 'Sea': 10, 'facet': 10, 'meticulously': 10, 'indulging': 10, 'embrace': 10, 'cameos': 10, 'uniformly': 10, 'Manas': 10, 'schematic': 10, 'illuminate': 10, 'motions': 10, 'Scratch': 10, 'beheadings': 10, 'obscenity': 10, 'organizing': 10, 'honesty': 10, 'Memento': 10, 'Dream': 10, 'thesps': 10, 'Bear': 10, 'universe': 10, 'hairier': 10, 'background': 10, 'Gifford': 10, 'water-camera': 10, 'feel-good': 10, 'well-crafted': 10, 'sappy': 10, 'yelling': 10, 'act': 10, 'swallow': 10, 'reaffirming': 10, 'threshold': 10, 'cathartic': 10, 'dysfunctional': 10, 'qualities': 10, 'gravity': 10, 'extravaganza': 10, 'sex-in-the-city': 10, 'misadventures': 10, 'Witch': 10, 'Project': 10, '50-year-old': 10, 'carved': 10, 'Home': 10, 'ensuing': 10, 'blithe': 10, 'exchanges': 10, 'tug': 10, '1980s': 10, 'thoughtfulness': 10, 'marks': 10, 'experiences': 10, 'she': 10, 'insistently': 10, 'conniving': 10, 'bank': 10, 'robberies': 10, 'Damme': 10, 'make-believe': 10, 'promise': 10, 'handled': 10, 'generalities': 10, 'correctness': 10, 'education': 10, 'Renaissance': 10, 'Spain': 10, 'spirits': 10, 'engrossing': 10, 'desired': 10, 'pee': 10, 'trombone': 10, 'laughed': 10, 'downfall': 10, 'thought-provoking': 10, 'Demme': 10, 'experiments': 10, 'Little': 10, 'luminous': 10, 'interviews': 10, 'myself': 10, 'cult': 10, 'wreaked': 10, 'frustration': 10, 'William': 10, 'involve': 10, 'jumbled': 10, 'popular': 10, 'confounded': 10, 'dealers': 10, 'expound': 10, 'vain': 10, 'Jean': 10, 'supposed': 10, 'forthright': 10, 'uses': 10, 'pseudo-bio': 10, 'meditative': 10, 'engage': 10, 'slowly': 10, 'Venice': 10, 'younger': 10, 'Babbitt': 10, '1975': 10, 'facing': 10, 'tongue-in-cheek': 10, 'attitude': 10, 'understanding': 10, 'survivors': 10, 'treasured': 10, 'Trek': 10, 'ahead': 10, 'overwhelming': 10, 'Average': 10, 'stagy': 10, 'chain': 10, 'mother\\\\/daughter': 10, 'terrible': 10, 'regard': 10, 'object': 10, 'lesson': 10, 'unusual': 10, 'Anderson': 10, 'Joel': 10, 'Critical': 10, 'Jim': 10, 'ghosts': 10, 'words': 10, 'subversive': 10, 'aggressively': 10, 'anti-erotic': 10, 'river': 10, 'job': 10, 'riled': 10, 'candles': 10, 'calories': 10, 'aging': 10, 'flimsy': 10, 'admiration': 10, 'scarier': 10, 'Lambs': 10, 'conflict': 10, 'students': 10, 'writer-director': 10, 'solidly': 10, 'Chill': 10, 'uninteresting': 10, 'follow': 10, 'knowing': 10, 'pairing': 10, 'places': 10, 'built-in': 10, 'drew': 10, 'awake': 10, 'intentions': 10, 'squeeze': 10, 'individuality': 10, 'Holofcener': 10, 'Pamela': 10, 'hit-man': 10, 'super-powers': 10, 'super-simple': 10, 'baggage': 10, 'tumultuous': 10, 'snobbery': 10, 'capture': 10, 'curious': 10, '&': 10, 'der': 10, 'Groen': 10, 'treasure': 10, 'Forrest': 10, 'Gump': 10, 'Eisenhower': 10, 'tardier': 10, 'lore': 10, 'payoff': 10, 'messy': 10, 'fizzle': 10, 'taken': 10, 'States': 10, 'thoughts': 10, 'Warm': 10, 'Water': 10, 'complacency': 10, 'strings': 10, 'tempted': 10, 'Wade': 10, 'inter-species': 10, 'parody': 10, 'pulse': 10, 'Praise': 10, 'epitaph': 10, 'sheerly': 10, 'unexpectedly': 10, 'gander': 9, 'suspect': 9, 'winning': 9, 'Mood': 9, 'Avengers': 9, 'couples': 9, 'host': 9, 'finish': 9, 'means': 9, 'Arthur': 9, 'well-constructed': 9, 'inoffensive': 9, 'glacial': 9, 'rut': 9, 'banality': 9, 'nerve-rattling': 9, 'Less': 9, 'peppering': 9, 'sleeping': 9, 'Thanks': 9, 'rest': 9, 'Perhaps': 9, 'swaying': 9, 'Shakespeare': 9, 'right-thinking': 9, 'distractions': 9, 'embarrassingly': 9, 'provocative': 9, 'fantasia': 9, 'middle-agers': 9, 'pastiche': 9, 'caper': 9, 'loony': 9, 'Schindler': 9, 'maddening': 9, 'Ed': 9, 'Decter': 9, 'exalted': 9, 'tagline': 9, 'furrow': 9, 'ready': 9, 'mom': 9, 'hold': 9, 'battle': 9, 'one-sided': 9, 'theme': 9, 'over-indulgent': 9, 'tirade': 9, 'stirring': 9, 'leap': 9, 'abandoned': 9, 'war-ravaged': 9, 'narcissistic': 9, 'candy-coat': 9, 'screwed-up': 9, 'hews': 9, 'effortlessly': 9, 'darkness': 9, 'lurid': 9, 'fiction': 9, 'closure': 9, 'Poor': 9, 'rote': 9, 'sentimentality': 9, 'brush': 9, 'monster': 9, 'Abel': 9, 'B-movie': 9, 'Errol': 9, 'Morris': 9, 'failing': 9, 'lectures': 9, 'scratch': 9, 'cross': 9, 'devolves': 9, 'Gaitskill': 9, 'owe': 9, 'dog': 9, 'unfocused': 9, 'waxes': 9, 'poetic': 9, 'Imax': 9, 'lots': 9, 'attract': 9, 'hits': 9, 'spirituality': 9, 'Reign': 9, 'intended': 9, 'inadvertently': 9, 'slight': 9, 'well-wrought': 9, 'Jason': 9, 'Bourne': 9, 'plagued': 9, 'serves': 9, 'well-intentioned': 9, 'rent': 9, 'sizzle': 9, '1970s': 9, 'strikes': 9, 'contemporaries': 9, 'verve': 9, 'chest': 9, 'lonely': 9, 'beacon': 9, 'bump-in': 9, 'crawlies': 9, 'reassuring': 9, 'manner': 9, 'mood': 9, 'ominous': 9, 'adds': 9, 'sidekicks': 9, 'esoteric': 9, 'Show': 9, 'describe': 9, 'leaps': 9, 'fathers': 9, 'formulas': 9, 'woods': 9, 'critique': 9, 'swear': 9, 'overcooked': 9, 'scummy': 9, 'ripoff': 9, 'Cronenberg': 9, 'kinda': 9, 'review': 9, 'II': 9, 'emphasis': 9, 'Wiseman': 9, 'asks': 9, 'raunch': 9, 'favor': 9, 'opposed': 9, 'saying': 9, 'momentum': 9, 'position': 9, 'undeterminable': 9, 'undemanding': 9, 'coheres': 9, 'interpersonal': 9, 'mere': 9, 'monumental': 9, 'atrocious': 9, 'Roman': 9, 'sheer': 9, 'certainly': 9, 'attached': 9, 'grandeur': 9, 'Ballesta': 9, 'Achero': 9, 'a-knocking': 9, 'Heaven': 9, 'Hours': 9, 'eliminating': 9, 'cannibal': 9, 'lacked': 9, 'two-hour': 9, '1990': 9, 'pulls': 9, 'apex': 9, 'enigmatic': 9, 'features': 9, 'hallucinatory': 9, 'Requiem': 9, 'manufactured': 9, 'Kathie': 9, 'ego': 9, 'not-quite-dead': 9, 'Guy': 9, 'Ritchie': 9, 'hill': 9, 'nostalgia': 9, 'conspicuous': 9, 'good-hearted': 9, 'mud': 9, 'considered': 9, 'pill': 9, 'elicits': 9, 'Jia': 9, 'trademark': 9, 'Loaf': 9, 'explodes': 9, 'Euro-trash': 9, 'nightmare': 9, 'versions': 9, 'everyday': 9, 'Assassin': 9, 'structured': 9, 'Blair': 9, 'costs': 9, 'balding': 9, 'Bots': 9, 'calamity': 9, 'Brings': 9, 'switch': 9, 'assigned': 9, 'classy': 9, 'ended': 9, 'disposable': 9, 'despair': 9, 'sensuality': 9, 'Jean-Claude': 9, 'soars': 9, 'opposite': 9, 'perhaps': 9, 'straightforward': 9, 'intelligent': 9, 'multi-layered': 9, 'peculiar': 9, 'streamlined': 9, 'Roach': 9, 'contributed': 9, 'matured': 9, 'denouements': 9, 'uncanny': 9, 'complaining': 9, 'rustic': 9, 'tree': 9, 'unflinching': 9, 'brought': 9, 'classroom': 9, 'defies': 9, 'classification': 9, 'color': 9, 'Stuart': 9, 'Japanese': 9, 'animations': 9, 'sibling': 9, 'rivalry': 9, 'relate': 9, 'Asian': 9, 'emerging': 9, 'levels': 9, 'Bogdanovich': 9, 'broadside': 9, 'stare': 9, 'resembles': 9, 'atop': 9, 'rollicking': 9, 'mateys': 9, 'ages': 9, 'ne': 9, 'creator': 9, 'nowhere': 9, 'Iosseliani': 9, 'Natalie': 9, 'ringside': 9, 'tinge': 9, 'strains': 9, 'difficulty': 9, 'settles': 9, 'Kiss': 9, 'variations': 9, 'Star': 9, 'newcomers': 9, 'Pieces': 9, 'fires': 9, 'presentation': 9, 'double': 9, 'agent': 9, 'liar': 9, 'girls': 9, 'classic': 9, 'pander': 9, 'payback': 9, 'warmth': 9, 'tediously': 9, 'chief': 9, 'draw': 9, 'heavyweights': 9, 'agreed': 9, 'conjures': 9, 'artworks': 9, 'movement': 9, 'asset': 9, 'valiant': 9, 'cake': 9, 'suffering': 9, 'D.W.': 9, 'Griffith': 9, 'methodology': 9, 'literature': 9, 'literal': 9, 'killing': 9, 'bound': 9, 'intriguingly': 9, 'contemplative': 9, 'sixties': 9, 'rockumentary': 9, 'milestones': 9, 'yawning': 9, 'happiness': 9, 'Silence': 9, 'delineate': 9, 'turntablists': 9, 'current': 9, 'innovators': 9, 'balance': 9, 'greatest-hits': 9, 'reel': 9, 'dilemma': 9, 'minute': 9, 'SAT': 9, 'scores': 9, 'magnificent': 9, 'Baader-Meinhof': 9, 'Gang': 9, 'harmless': 9, 'activists': 9, 'genuine': 9, 'crew': 9, 'insightful': 9, 'Tarkovsky': 9, 'promising': 9, 'clownish': 9, 'conception': 9, 'fogging': 9, 'ingest': 9, 'Loyal': 9, 'wide': 9, 'denied': 9, 'probe': 9, 'transition': 9, 'sip': 9, 'layered': 9, 'richness': 9, 'dance': 9, 'flop': 9, 'beer': 9, 'substitute': 9, 'stockings': 9, 'wintry': 9, 'sparkling': 9, 'loose-jointed': 9, 'carrying': 9, 'Batman': 9, 'explains': 9, 'Jennifer': 9, 'one-dimensional': 9, 'buffoons': 9, 'uncles': 9, 'Paulette': 9, 'sport': 9, 'consider': 9, 'constrictive': 9, 'late': 9, 'exploiting': 9, 'school-age': 9, 'murky': 9, 'crowd-pleaser': 9, 'Smith': 9, 'Into': 9, 'male': 9, 'scribe': 9, 'extreme': 9, 'suits': 9, 'gut-busting': 9, 'technology': 9, 'adage': 8, 'introspective': 8, 'Shakespearean': 8, 'midlife': 8, 'plodding': 8, 'Mile': 8, 'dizzily': 8, 'mainland': 8, 'setting': 8, 'Hatfield': 8, 'grenade': 8, '7': 8, 'boilerplate': 8, 'arrives': 8, 'opportunities': 8, 'Reigen': 8, 'dash': 8, 'unnamed': 8, 'phrase': 8, 'Tartakovsky': 8, 'Gallo': 8, 'home': 8, 'frighten': 8, '25': 8, 'option': 8, 'Jones': 8, 'chapter': 8, 'Waking': 8, 'dogs': 8, 'Williams': 8, 'overexposed': 8, 'waste': 8, 'kooky': 8, 'Horton': 8, 'gratuitous': 8, 'endless': 8, 'assault': 8, 'designed': 8, 'vignettes': 8, 'bulk': 8, 'connections': 8, 'List': 8, 'Written': 8, 'co-writer': 8, 'solving': 8, 'comprehensible': 8, 'antics': 8, 'Q': 8, 'Quirky': 8, 'monsterous': 8, 'Green': 8, 'record': 8, 'city': 8, 'tatters': 8, 'bogged': 8, 'attracts': 8, 'unprepared': 8, 'evanescent': 8, 'Polanski': 8, 'consoled': 8, 'achieving': 8, 'delicious': 8, 'pulpiness': 8, 'From': 8, 'reveals': 8, 'efforts': 8, 'unpredictable': 8, 'editing': 8, 'instrument': 8, 'expedience': 8, 'splash': 8, 'eccentricity': 8, 'stale': 8, 'confrontations': 8, 'harrowing': 8, 'bagatelle': 8, 'flair': 8, 'truest': 8, 'outnumber': 8, 'three-to-one': 8, 'blab': 8, 'Uneven': 8, 'rehashes': 8, 'capped': 8, 'insanely': 8, 'placing': 8, 'randomness': 8, 'literate': 8, 'parapsychological': 8, 'phenomena': 8, 'Director': 8, 'anti-feminist': 8, 'His': 8, 'predecessor': 8, 'Story': 8, 'topics': 8, 'Sy': 8, 'killer': 8, 'Insomnia': 8, 'humour': 8, 'standard': 8, 'procedure': 8, 'outpaces': 8, 'hairs': 8, 'squeezed': 8, 'Harmon': 8, 'the-night': 8, 'hidden': 8, 'various': 8, 'eerie': 8, 'addict': 8, 'admit': 8, 'celebrates': 8, 'morality': 8, 'circles': 8, 'photographed': 8, 'Screenwriter': 8, 'directing': 8, 'overshadowed': 8, 'mildly': 8, 'dungpile': 8, 'feces': 8, 'horrible': 8, 'First': 8, 'Blade': 8, 'Time': 8, 'warmest': 8, 'To': 8, 'Ivan': 8, 'provide': 8, 'successful': 8, 'psychologically': 8, 'self-revealing': 8, 'biting': 8, 'ticket': 8, 'undertaking': 8, 'toilet': 8, 'treatment': 8, 'band': 8, 'Drumline': 8, 'raw-nerved': 8, 'joyless': 8, 'idiotic': 8, 'disappointments': 8, 'acknowledges': 8, 'acted': 8, 'Galan': 8, 'resurrect': 8, 'Copy': 8, 'snazzy': 8, 'hip-hop': 8, 'twists': 8, 'turgid': 8, 'fable': 8, 'avoids': 8, 'We': 8, 'brutal': 8, 'stumbles': 8, 'trick': 8, 'slumming': 8, 'Country': 8, 'Einstein': 8, 'everybody': 8, 'am': 8, 'tuba-playing': 8, 'dwarf': 8, 'rolled': 8, 'boorishness': 8, 'Southern': 8, 'line': 8, 'existence': 8, 'tough': 8, 'minor': 8, 'miracle': 8, 'Meat': 8, 'Pinochet': 8, 'serviceable': 8, 'breadth': 8, 'damaged': 8, 'Fork': 8, 'protect': 8, 'accomplished': 8, 'center': 8, 'deliberately': 8, 'unsteady': 8, 'Battle': 8, 'Alabama': 8, 'blatant': 8, 'debated': 8, 'useless': 8, 'actioners': 8, 'Sara': 8, 'stamp': 8, 'comics': 8, 'dignity': 8, 'underrehearsed': 8, 'dose': 8, 'father-and-son': 8, 'dynamics': 8, 'degrading': 8, 'liberating': 8, 'Photo': 8, 'profoundly': 8, 'humanist': 8, 'cultural': 8, 'costume': 8, 'mouth': 8, 'Spider-Man': 8, 'spout': 8, 'hilarious': 8, 'forgotten': 8, 'creators': 8, 'Ask': 8, 'harvests': 8, 'top': 8, 'whether': 8, 'Dogtown': 8, 'euphoria': 8, 'tropes': 8, 'integrated': 8, 'Company': 8, 'groupie\\\\/scholar': 8, 'cheer': 8, 'Walter': 8, 'miscellaneous': 8, 'bohos': 8, 'sniffle': 8, 'heartbreak': 8, 'Westbrook': 8, 'enjoyed': 8, 'fish-out-of-water': 8, 'limits': 8, 'Otar': 8, 'hubristic': 8, 'folly': 8, 'tough-man': 8, 'contest': 8, 'stay': 8, 'grief': 8, 'warmed': 8, 'Last': 8, 'catharsis': 8, 'nervy': 8, 'oddity': 8, 'gory': 8, 'slash-fest': 8, 'finishes': 8, 'defines': 8, 'smoothed': 8, 'stacks': 8, 'Mattei': 8, 'forming': 8, 'helluva': 8, 'singer': 8, 'longing': 8, 'Beck': 8, 'dime': 8, 'oddly': 8, 'sleep': 8, 'phantasms': 8, 'haunting': 8, 'contours': 8, 'support': 8, 'completion': 8, 'states': 8, 'talked': 8, 'detriment': 8, 'Fundamentals': 8, 'Light': 8, 'fret': 8, 'lesser': 8, 'limited': 8, 'Behan': 8, 'huskies': 8, 'border': 8, 'collie': 8, 'likable': 8, 'prevent': 8, 'maintain': 8, 'carefully': 8, 'surveyed': 8, 'stereotyped': 8, 'instincts': 8, 'patience': 8, 'Eastwood': 8, 'minimalist': 8, 'pranksters': 8, 'taboo': 8, 'pan-American': 8, 'Andrei': 8, 'distill': 8, 'screenplays': 8, 'dwell': 8, 'Life': 8, 'exception': 8, 'Order': 8, 'Raccoons': 8, 'loaded': 8, 'scream': 8, 'stage': 8, 'settle': 8, 'topnotch': 8, 'foursome': 8, 'promisingly': 8, 'proceeds': 8, 'steam': 8, '1920': 8, 'collection': 8, 'distinct': 8, 'static': 8, 'super-dooper-adorability': 8, 'Killer': 8, 'resolution': 8, 'stripped-down': 8, 'Manhattan': 8, 'effecting': 8, '6-year-old': 8, 'nephew': 8, 'van': 8, 'described': 8, 'juice': 8, 'tapping': 8, 'happened': 8, 'well-developed': 8, 'comfort': 8, 'whimsical': 8, 'Bai': 8, 'squirts': 8, 'Gentle': 8, 'starting': 8, 'bear': 8, 'lax': 8, 'sitcomishly': 8, 'risks': 8, 'missing': 8, 'cashing': 8, 'Roses': 8, 'producer': 8, 'demonstrating': 7, 'combination': 7, 'ethnography': 7, 'juicy': 7, 'undergoing': 7, 'Importance': 7, 'considers': 7, 'Moonlight': 7, 'damned': 7, 'inspired': 7, 'Hicks': 7, 'indecipherable': 7, 'vaudeville': 7, 'run-of-the-mill': 7, 'Ice': 7, 'Age': 7, 'meaning': 7, 'judge': 7, 'disturb': 7, 'true-crime': 7, 'hell-jaunt': 7, 'purists': 7, 'shell': 7, 'games': 7, 'tackled': 7, 'Takes': 7, 'clunky': 7, 'TV-movie': 7, 'detailing': 7, 'Up': 7, 'overeager': 7, 'Claude': 7, 'deepest': 7, 'tragedies': 7, \"O'Fallon\": 7, 'villains': 7, 'impressed': 7, 'reek': 7, 'rewrite': 7, 'skittish': 7, 'stumble': 7, 'foibles': 7, 'willingness': 7, 'centers': 7, 'Pianist': 7, 'quick': 7, 'flatly': 7, 'Kendall': 7, 'recommended': 7, 'curiosity': 7, 'factors': 7, 'non-techies': 7, 'definite': 7, 'improvement': 7, 'ploughing': 7, 'D.': 7, 'Swedish': 7, 'fillm': 7, 'unimaginative': 7, 'sneaky': 7, 'hobby': 7, 'consciousness': 7, 'hopefully': 7, 'Tolstoy': 7, 'groupies': 7, 'bluescreen': 7, 'cowering': 7, 'feet': 7, 'Madonna': 7, 'focusing': 7, 'Mediocre': 7, 'explosions': 7, 'wears': 7, 'relays': 7, 'post-camp': 7, 'scattered': 7, 'spirals': 7, 'downward': 7, 'punch': 7, 'double-cross': 7, 'gross-out': 7, 'graphic': 7, 'convinced': 7, 'lose': 7, 'fast': 7, 'fade': 7, 'pomposity': 7, 'needless': 7, 'fairy': 7, 'supernatural': 7, 'keen': 7, 'save': 7, 'depraved': 7, 'proper': 7, 'conviction': 7, 'luscious': 7, 'instead': 7, 'mighty': 7, 'equation': 7, 'romantic-comedy': 7, 'duds': 7, 'boy-meets-girl': 7, 'money': 7, 'imagine': 7, 'mindless': 7, 'Benjamins': 7, 'evokes': 7, 'Reggio': 7, 'less-is-more': 7, 'Sillier': 7, 'shorter': 7, 'bag': 7, 'mediocrity': 7, 'Gong': 7, 'bites': 7, 'obsessively': 7, 'contact': 7, 'Proves': 7, 'pair': 7, 'destination': 7, 'staged': 7, 'moves': 7, 'flinging': 7, 'Videodrome': 7, 'copyof': 7, 'Is': 7, 'trembling': 7, 'page-turning': 7, 'frenzy': 7, 'clinical': 7, 'objectivity': 7, 'doubt': 7, 'evolves': 7, 'burdened': 7, 'sensibilities': 7, 'emerge': 7, 'price': 7, 'matters': 7, 'Korean': 7, 'substantive': 7, 'ignore': 7, 'concentrate': 7, 'ai': 7, 'scratches': 7, 'featured': 7, 'red': 7, 'ice': 7, 'highly-praised': 7, 'misfortune': 7, 'stops': 7, 'celebrities': 7, 'ho-hum': 7, 'Hard': 7, 'inexplicable': 7, 'introduces': 7, 'Waterboy': 7, 'establishes': 7, 'turns': 7, 'destiny': 7, 'tasty': 7, 'quashed': 7, 'funniest': 7, 'beast': 7, 'ingratiating': 7, 'individual': 7, 'peace': 7, 'Leguizamo': 7, 'rules': 7, 'brain': 7, 'Feardotcom': 7, 'Alexander': 7, 'Everyman': 7, 'town': 7, 'misty-eyed': 7, 'tear-drenched': 7, 'quicksand': 7, 'indeed': 7, 'snazziness': 7, 'Notwithstanding': 7, 'akin': 7, '1972': 7, 'criticism': 7, 'box': 7, 'consolation': 7, 'candy': 7, 'self-expression': 7, 'Kouyate': 7, 'Bart': 7, 'crimes': 7, 'handguns': 7, 'believer': 7, 'cheered': 7, 'sequences': 7, 'shaking': 7, '21\\\\/2': 7, '20': 7, 'importance': 7, 'merge': 7, 'Never': 7, 'Again': 7, 'speaking': 7, 'anywhere': 7, 'near': 7, '50-million': 7, 'mixture': 7, 'stylistic': 7, 'quintessential': 7, 'Bollywood': 7, 'characteristically': 7, 'engorged': 7, 'slights': 7, 'lavish': 7, 'formalism': 7, 'awareness': 7, 'Definitely': 7, 'heartening': 7, 'victories': 7, 'politically': 7, 'so-so': 7, 'lessen': 7, 'widely': 7, 'search': 7, 'MTV': 7, 'schmucks': 7, 'stoops': 7, 'provoke': 7, 'handsomely': 7, 'shockingly': 7, 'flamboyant': 7, 'restless': 7, 'arbitrarily': 7, 'plotted': 7, 'gangster': 7, 'fair': 7, 'amount': 7, 'prowess': 7, 'Hour': 7, 'aim': 7, 'self-reflection': 7, 'geographical': 7, 'corners': 7, 'nausea': 7, 'undeniably': 7, 'touched': 7, 'escapist': 7, 'chick': 7, 'Jeopardy': 7, 'amateurishly': 7, 'square': 7, 'low-key': 7, 'tackling': 7, 'unhurried': 7, 'Tell': 7, 'tedious': 7, 'follows': 7, 'Somewhere': 7, 'better-focused': 7, 'count': 7, 'Movie': 7, 'ruins': 7, 'separate': 7, 'build': 7, 'Welles': 7, 'provided': 7, 'so-bad-they': 7, 'regardless': 7, 'foundation': 7, 'Dalrymple': 7, 'undermining': 7, 'squirm-inducing': 7, 'fill': 7, 'factory': 7, 'worker': 7, 'escapes': 7, 'market': 7, 'Weimar': 7, 'Republic': 7, 'hobnail': 7, 'boots': 7, 'indelible': 7, 'action-packed': 7, 'Justine': 7, 'impacts': 7, 'hyper-realistic': 7, 'solo': 7, 'Contact': 7, 'villain': 7, 'leaden': 7, 'Pick': 7, 'chimney': 7, 'Triple': 7, 'dude': 7, 'none-too-original': 7, 'environment': 7, 'wraps': 7, 'express': 7, 'benevolent': 7, 'deception': 7, 'Balk': 7, 'mature': 7, 'interpreting': 7, 'badder': 7, 'spectacular': 7, 'rapport': 7, 'Angel': 7, 'pretended': 7, 'spite': 7, 'Family': 7, 'outshine': 7, 'touching': 7, 'reflection': 7, 'glorious': 7, 'enthusiastic': 7, 'recalling': 7, 'Lonely': 7, 'fascinated': 7, 'genial': 7, 'loved': 7, 'predictably': 7, 'came': 7, 'Job': 7, 'George': 7, 'Orwell': 7, 'turning': 7, '120': 7, 'Clint': 7, 'efficiently': 7, 'Same': 7, 'verse': 7, 'necessarily': 7, 'sports': 7, 'Solaris': 7, 'theory': 7, 'enters': 7, 'committed': 7, 'complexity': 7, 'Scooter': 7, 'issues': 7, 'faced': 7, 'zeal': 7, 'drains': 7, 'endings': 7, 'hence': 7, 'chillingly': 7, 'effective': 7, 'accomplishes': 7, 'Jerry': 7, 'Bruckheimer': 7, 'vampire': 7, 'Simpsons': 7, 'gossip': 7, 'repartee': 7, 'shares': 7, 'Ichi': 7, 'Musset': 7, 'message-movie': 7, 'affable': 7, 'Maid': 7, 'storm': 7, 'surrounds': 7, 'herself': 7, 'overlong': 7, 'developed': 7, 'attractive': 7, 'Orange': 7, 'fresh-squeezed': 7, 'steeped': 7, 'unsatisfying': 7, 'rate': 7, 'familiarity': 7, 'Colosseum': 7, 'until': 7, 'Hanna-Barbera': 7, 'half-hour': 7, 'cartoons': 7, 'solemn': 7, 'disguise': 7, 'Go': 7, 'chemistry': 7, 'workmanlike': 7, 'sword': 7, 'manual': 7, 'Kaufman': 7, 'fruitful': 7, 'low-budget': 7, 'peels': 7, 'layers': 7, 'AIDS': 7, 'Ismail': 6, 'positively': 6, 'whitewash': 6, 'Day': 6, 'hate': 6, 'absolute': 6, 'relief': 6, 'baseball': 6, 'companion': 6, 'big-screen': 6, 'remakes': 6, 'Norris': 6, 'converted': 6, 'Nothing': 6, 'Hampered': 6, 'romantics': 6, 'writers': 6, 'primary': 6, 'goal': 6, 'tricky': 6, 'grace': 6, 'Comes': 6, 'plausible': 6, 'poorly': 6, 'drive-by': 6, 'rot': 6, 'Attraction': 6, 'overboard': 6, 'Inventive': 6, 'results': 6, 'reporting': 6, 'rainbow': 6, 'Report': 6, 'card': 6, 'Ridley': 6, 'Shyamalan': 6, 'mawkish': 6, 'self-parody': 6, 'rouses': 6, 'succeed': 6, 'alone': 6, 'forgettably': 6, 'unsurprising': 6, 'expense': 6, 'coasting': 6, 'radical': 6, 'misses': 6, 'Initial': 6, 'strangeness': 6, 'inexorably': 6, 'lets': 6, 'begging': 6, 'partly': 6, 'near-future': 6, 'Has': 6, 'uncluttered': 6, 'force': 6, 'creature-feature': 6, 'fan': 6, 'bet': 6, 'exist': 6, 'favors': 6, 'Charming': 6, 'amateurish': 6, 'imbued': 6, 'At': 6, '42': 6, 'Gray': 6, 'dragons': 6, 'wo': 6, 'disappointed': 6, 'veers': 6, 'depress': 6, 'pretentiousness': 6, 'latently': 6, 'catch': 6, 'omits': 6, 'Well-done': 6, 'grieving': 6, 'Everyone': 6, 'roughshod': 6, 'document': 6, 'safe': 6, 'loads': 6, 'Thoughtless': 6, 'what-if': 6, 'ending': 6, 'commercialism': 6, 'Godfrey': 6, 'shines': 6, 'keeping': 6, 'cuter': 6, 'considering': 6, 'rises': 6, 'videos': 6, 'former': 6, 'disguised': 6, 'big-bug': 6, 'likes': 6, 'apparent': 6, 'casting': 6, 'monkeys': 6, 'incoherent': 6, 'sent': 6, 'cold-blooded': 6, 'inspires': 6, 'gratitude': 6, 'Clancy': 6, 'creates': 6, 'Lynch': 6, 'appearance': 6, 'spoof': 6, 'downplays': 6, 'bedroom': 6, 'half-bad': 6, 'unfairly': 6, 'sham': 6, 'thrilled': 6, 'fundamentally': 6, 'abhorrent': 6, 'deeper': 6, 'nine-tenths': 6, 'automatically': 6, 'bypass': 6, 'fortify': 6, 'orientation': 6, 'Once': 6, 'laughter': 6, 'Translation': 6, 'release': 6, 'easier': 6, 'combines': 6, 'ill-conceived': 6, 'pitifully': 6, 'superb': 6, 'figure': 6, 'tax': 6, 'Paula': 6, 'ode': 6, 'proving': 6, 'Caesar': 6, 'channels': 6, 'got': 6, 'Maybe': 6, 'vat': 6, 'treading': 6, 'neglecting': 6, 'slick': 6, 'tick-tock': 6, 'effect': 6, 'pabulum': 6, 'fat': 6, 'walked': 6, 'television': 6, 'guaranteed': 6, 'hinge': 6, 'exhibitionism': 6, 'BMWs': 6, 'dating': 6, 'wars': 6, 'smirk': 6, 'uneasily': 6, 'sanitised': 6, 'Interview': 6, 'European': 6, 'Clueless': 6, 'animals': 6, 'revolutionary': 6, 'didactic': 6, 'burlesque': 6, 'US': 6, 'secondhand': 6, 'Sweet': 6, 'date-night': 6, 'exposition': 6, 'somber': 6, 'convenient': 6, 'Foster': 6, 'overlooked': 6, 'busy': 6, 'shrapnel': 6, 'neglected': 6, 'stayed': 6, 'absolutely': 6, 'twisted': 6, 'rock-solid': 6, 'lovely': 6, 'displacement': 6, 'encounter': 6, 'unbelievably': 6, 'icy': 6, 'lightweight': 6, 'answer': 6, 'emerges': 6, 'freedom': 6, 'valuable': 6, 'messages': 6, 'melancholy': 6, 'Blue': 6, 'Crush': 6, 'throws': 6, 'field': 6, 'roughage': 6, 'Damned': 6, 'Dog': 6, 'Asiaphiles': 6, 'Motown': 6, 'maintains': 6, 'throughout': 6, 'excruciating': 6, '86': 6, 'unpaid': 6, 'intern': 6, 'typed': 6, 'pleasures': 6, 'Bentley': 6, 'respectively': 6, 'Ledger': 6, 'content': 6, 'stunning': 6, 'uplift': 6, 'stifling': 6, 'passages': 6, 'stretched': 6, 'apes': 6, 'allegory': 6, 'Germany': 6, 'democratic': 6, 'disapproval': 6, 'combined': 6, 'served': 6, 'retread': 6, 'joyful': 6, 'stereotypes': 6, 'adding': 6, 'vividly': 6, 'crematorium': 6, 'Money': 6, 'unrealized': 6, 'potential': 6, 'detail': 6, 'bungle': 6, 'painful': 6, '9': 6, '19th': 6, 'century': 6, 'dazzling': 6, 'lull': 6, 'Wiel': 6, 'lost': 6, 'leaving': 6, 'consumed': 6, 'crushed': 6, 'accent': 6, 'Jackson': 6, 'trust': 6, 'Look': 6, 'Back': 6, 'cherished': 6, 'Bard': 6, 'prurient': 6, 'borrows': 6, 'heavily': 6, 'Longley': 6, 'winner': 6, 'basically': 6, 'undermine': 6, 'require': 6, 'Grumpy': 6, 'Old': 6, 'unrepentantly': 6, 'trashy': 6, 'Pretend': 6, 'calculated': 6, 'blended': 6, 'camp': 6, 'exactly': 6, 'grown': 6, 'unconcerned': 6, 'lower': 6, 'speculation': 6, 'Brecht': 6, 'tense': 6, 'Minac': 6, 'neo-Nazism': 6, 'argue': 6, 'Stevenon': 6, 'deceptively': 6, 'develops': 6, 'obviously': 6, 'Howard': 6, 'scripting': 6, 'solutions': 6, 'biscuit': 6, 'Hitchcockian': 6, 'international': 6, 'entertainingly': 6, 'Tom': 6, 'Hanks': 6, '1899': 6, 'hearing': 6, 'trove': 6, 'wildest': 6, 'Were': 6, 'austere': 6, 'diva': 6, 'shrewdly': 6, 'twist': 6, 'imagines': 6, 'inform': 6, 'Brooms': 6, 'Yes': 6, 'Death': 6, 'Metaphors': 6, 'abound': 6, 'retooling': 6, 'yearning': 6, 'doggie': 6, 'winks': 6, 'Jessica': 6, 'Stein': 6, 'build-up': 6, 'maximum': 6, 'crave': 6, 'bare-midriff': 6, 'generation': 6, 'gushing': 6, 'Imamura': 6, 'Dylan': 6, 'alive': 6, 'Hawke': 6, 'Chelsea': 6, 'Walls': 6, 'Working': 6, 'mockumentary': 6, 'unintentionally': 6, 'enact': 6, 'rude': 6, 'deliver': 6, 'digs': 6, 'Jonze': 6, 'desire': 6, 'bless': 6, 'Gangs': 6, 'War': 6, 'car': 6, 'pileup': 6, 'slapdash': 6, 'disaster': 6, 'admiring': 6, 'Scottish': 6, 'cases': 6, 'patients': 6, 'escapades': 5, 'self-glorification': 5, 'proportions': 5, 'Trouble': 5, 'bilingual': 5, 'Chuck': 5, 'preach': 5, 'exclusively': 5, 'chuckles': 5, 'vapid': 5, 'makers': 5, 'rambling': 5, 'incoherence': 5, 'slip': 5, 'airless': 5, 'Pellington': 5, 'Transforms': 5, 'furiously': 5, 'Plays': 5, 'major': 5, 'Swimfan': 5, 'Fatal': 5, 'proud': 5, 'Entertains': 5, 'Scarcely': 5, 'Invigorating': 5, 'stop': 5, 'returns': 5, 'threatens': 5, 'Russian': 5, 'Keenly': 5, 'observed': 5, 'weirdly': 5, 'Although': 5, 'mystical': 5, 'tenderness': 5, 'Giannini': 5, 'key': 5, 'uninspired': 5, 'Eerily': 5, 'Those': 5, 'thuds': 5, 'awkwardly': 5, 'realism': 5, 'lines': 5, 'brief': 5, 'Spalding': 5, 'Vulgar': 5, 'generates': 5, 'navigates': 5, 'read': 5, 'beware': 5, 'cares': 5, 'von': 5, 'Sychowski': 5, 'opts': 5, 'visible': 5, 'cliche-ridden': 5, 'threw': 5, 'Charleston': 5, 'lackadaisical': 5, 'Scouse': 5, 'Provides': 5, 'camouflage': 5, 'scares': 5, 'fused': 5, 'breezy': 5, 'increasingly': 5, 'diverse': 5, 'Armenians': 5, '1915': 5, 'dwindles': 5, 'preachy': 5, 'bogus': 5, 'mesmerizing': 5, 'fake': 5, 'vile': 5, 'arch': 5, 'thinly-conceived': 5, 'roiling': 5, 'black-and-white': 5, 'Robinson': 5, 'matches': 5, 'stock': 5, 'sexploitation': 5, 'masquerading': 5, 'experiment': 5, 'Zaza': 5, 'spotty': 5, 'caught': 5, 'dreadful': 5, 'guilty': 5, 'Hey': 5, 'Arnold': 5, 'Garth': 5, 'spare': 5, 'than-likely': 5, 'raises': 5, 'watchable': 5, 'longevity': 5, 'zip': 5, 'ensures': 5, 'Stupid': 5, 'infantile': 5, 'front-loaded': 5, 'shapely': 5, 'flailing': 5, 'expensive': 5, 'Greta': 5, 'Aussie': 5, 'mired': 5, 'oblivious': 5, 'porn': 5, 'soulless': 5, 'skims': 5, 'stymied': 5, 'suffers': 5, 'smacks': 5, 'distance': 5, 'McDowell': 5, 'seaside': 5, 'chateaus': 5, 'sends': 5, 'stagey': 5, 'indulgent': 5, 'Good-looking': 5, 'hoot': 5, 'straight-shooting': 5, 'awards': 5, 'blur': 5, 'Schaeffer': 5, 'qualify': 5, 'larded': 5, 'resolutions': 5, 'wry': 5, 'Ramsay': 5, 'telegraphed': 5, 'austerity': 5, 'account': 5, 'Seinfeld': 5, 'unpleasant': 5, 'intellectually': 5, 'dramatically': 5, 'Jonah': 5, 'hitting': 5, 'linger': 5, 'overproduced': 5, 'goodness': 5, 'quietly': 5, 'summertime': 5, 'glows': 5, 'filled': 5, 'listless': 5, 'Donovan': 5, 'hamstrung': 5, 'confrontational': 5, 'stance': 5, 'Todd': 5, 'Clause': 5, 'Raimi': 5, 'stupid': 5, 'absurdity': 5, 'modestly': 5, 'sucks': 5, 'meet': 5, 'sugar-coated': 5, 'Rocky': 5, 'masterfully': 5, 'controlled': 5, 'Pug': 5, 'Gilliam': 5, 'Kafka': 5, 'grinder': 5, 'rivals': 5, 'bite': 5, 'Thornberrys': 5, 'dragged': 5, 'relying': 5, 'Shadows': 5, 'Laura': 5, 'Cahill': 5, 'Fans': 5, 'perceptive': 5, 'Hudson': 5, 'mugging': 5, 'not-so-hot': 5, 'Overly': 5, 'earn': 5, 'pleasant': 5, 'mechanical': 5, 'action-comedy': 5, 'immersive': 5, 'copy': 5, 'Muccino': 5, 'Halloween': 5, 'Better': 5, 'falls': 5, 'headbanger': 5, 'undermined': 5, 'Enough': 5, 'unlike': 5, 'claim': 5, \"'n'\": 5, 'bittersweet': 5, 'spend': 5, 'dreaminess': 5, 'assume': 5, 'desperate': 5, 'advert': 5, 'youthful': 5, 'anomie': 5, 'equals': 5, 'employs': 5, 'Few': 5, 'poetically': 5, 'tactfully': 5, 'petty': 5, 'thievery': 5, 'DOA': 5, 'piquant': 5, 'determined': 5, 'voyeur': 5, 'hear': 5, 'seductive': 5, 'send': 5, 'Cranky': 5, 'wants': 5, 'practice': 5, 'Vaguely': 5, 'Caddyshack': 5, 'crossed': 5, 'Juliet': 5, 'schlocky': 5, 'creature': 5, 'Chicago': 5, 'muddled': 5, 'Sam': 5, 'squandering': 5, 'comedian': 5, 'trip': 5, 'Essentially': 5, 'arrive': 5, 'Coal': 5, 'laugh-out-loud': 5, 'Takashi': 5, 'Miike': 5, 'Strident': 5, 'resurrection': 5, 'expects': 5, 'immensely': 5, 'appealing': 5, 'educate': 5, 'Curling': 5, 'averting': 5, 'remarkably': 5, 'alluring': 5, 'disconcertingly': 5, 'Kissing': 5, 'Fast': 5, 'Kids': 5, 'Ethan': 5, 'strained': 5, 'gifts': 5, 'God': 5, 'aversion': 5, 'surf': 5, 'thrillingly': 5, 'Daniel': 5, 'Day-Lewis': 5, 'edgy': 5, 'fifty': 5, 'spot-on': 5, 'burr': 5, 'Duvall': 5, 'independent': 4, 'seeking': 4, 'comedy-drama': 4, 'occurs': 4, 'progression': 4, '100-minute': 4, 'Oscar-size': 4, 'Scherfig': 4, 'absorbing': 4, 'clips': 4, 'eventually': 4, 'intoxicatingly': 4, 'Something': 4, 'graced': 4, 'emotion': 4, 'Analyze': 4, 'Massoud': 4, 'Tian': 4, 'Zhuangzhuang': 4, '300': 4, 'compressed': 4, 'natural': 4, 'hooked': 4, 'Danang': 4, 'Sleek': 4, 'ultra-cheesy': 4, 'highlight': 4, 'Hartley': 4, 'depiction': 4, 'well-made': 4, 'Starts': 4, 'mediocre': 4, 'miss': 4, 'Smoke': 4, 'Signals': 4, 'liking': 4, 'Storytelling': 4, 'Bond': 4, 'Parents': 4, 'off-putting': 4, 'Boris': 4, 'Would': 4, \"'n\": 4, 'transcends': 4, 'endeavor': 4, 'covers': 4, 'Ah': 4, 'Narc': 4, 'rip-roaring': 4, 'fest': 4, 'storytellers': 4, 'chronicle': 4, 'Feral': 4, 'Black-and-white': 4, 'joyous': 4, 'Witty': 4, 'senses': 4, 'humbuggery': 4, 'web': 4, 'Got': 4, 'Favor': 4, 'puzzles': 4, 'maintaining': 4, 'Beating': 4, 'late-night': 4, 'Ending': 4, 'Judith': 4, 'soul-searching': 4, 'clarity': 4, 'comparison': 4, 'Smackdown': 4, 'letdown': 4, 'stand-up': 4, 'directs': 4, 'waydowntown': 4, 'labours': 4, 'Twenty': 4, 'Broder': 4, 'rank': 4, 'averse': 4, 'Loses': 4, 'Belinsky': 4, 'ineptly': 4, 'assembled': 4, 'Soderbergh': 4, 'Guys': 4, 'Anyone': 4, 'asylum': 4, 'Bettany': 4, 'rollerball': 4, 'relentlessly': 4, 'lowbrow': 4, 'outing': 4, 'disconnection': 4, 'directive': 4, 'obnoxious': 4, 'Pinocchio': 4, 'Lagaan': 4, 'affectionate': 4, 'delight': 4, 'ear': 4, 'Next': 4, 'Intelligent': 4, 'mental': 4, 'shellshock': 4, 'Warren': 4, 'dreck': 4, 'pitched': 4, 'aspirations': 4, 'Strange': 4, 'stopped': 4, 'helmer': 4, 'chop': 4, 'suey': 4, 'affects': 4, 'Santa': 4, 'forget': 4, 'using': 4, 'owes': 4, 'Frank': 4, 'dominates': 4, 'Terry': 4, 'meat': 4, 'fertility': 4, 'Treasure': 4, 'Planet': 4, 'loses': 4, 'Nair': 4, 'dare': 4, 'nutty': 4, 'figures': 4, 'Kjell': 4, 'Bjarne': 4, 'By': 4, 'unlikable': 4, 'not-so-big': 4, 'Eisenstein': 4, 'worshipful': 4, 'bio-doc': 4, 'Limps': 4, 'fifteen-minute': 4, 'Writer': 4, 'Chalk': 4, 'Russell': 4, 'stomps': 4, 'excitement': 4, 'challenges': 4, 'Lips': 4, 'Insurrection': 4, 'convey': 4, 'Shankman': 4, 'screenwriter': 4, 'Karen': 4, 'Janszen': 4, 'actresses': 4, 'Ver': 4, 'Cacoyannis': 4, 'sleek': 4, 'Showtime': 4, 'starry': 4, 'Woven': 4, 'needed': 4, 'ought': 4, 'Willie': 4, 'fustily': 4, 'tasteful': 4, 'Tattoo': 4, 'Penotti': 4, 'captured': 4, 'Twenty-three': 4, 'Successfully': 4, 'plotline': 4, 'Works': 4, 'large-frame': 4, 'lends': 4, 'Invincible': 4, 'Fessenden': 4, 'disquieting': 4, 'Sometimes': 4, 'showcases': 4, 'Powerpuff': 4, 'spy-thriller': 4, 'abstract': 4, 'inelegant': 4, 'Chai': 4, 'geared': 4, 'grownups': 4, 'Meatballs': 4, 'saga': 4, 'Auteuil': 4, 'enhances': 4, 'trailer-trash': 4, 'stretches': 4, 'HIV-infected': 4, 'Mumbai': 4, 'Aggressive': 3, 'Wong': 3, 'Bloody': 3, 'Sunday': 3, 'Both': 3, 'Run': 3, 'Downright': 3, 'transparent': 3, 'Reeks': 3, 'Contrived': 3, 'Tells': 3, 'Highly': 3, 'Amid': 3, 'Writer\\\\/director': 3, 'Changing': 3, 'Lanes': 3, 'triumphantly': 3, 'Whenever': 3, 'Spider-man': 3, 'Violent': 3, 'Winds': 3, 'Swimming': 3, 'Intriguing': 3, 'arty': 3, 'Cho': 3, 'Feels': 3, 'Kim': 3, 'Ki-Deok': 3, 'improved': 3, 'Horrendously': 3, 'Monte': 3, 'Cristo': 3, 'smartly': 3, 'singularly': 3, 'Cloaks': 3, 'Jolting': 3, 'Phoned-in': 3, 'yes': 3, 'uncomfortable': 3, 'unrealistic': 3, 'Genuinely': 3, 'unnerving': 3, 'Halfway': 3, 'alternative': 3, 'Ultimately': 3, 'Festers': 3, 'flame-like': 3, 'tentative': 3, 'dreary': 3, 'Using': 3, 'Buy': 3, 'irritating': 3, 'mainly': 3, 'Except': 3, 'See': 3, 'relative': 3, 'non-mystery': 3, 'mystery': 3, 'wanes': 3, 'Remember': 3, 'Fails': 3, 'Purports': 3, 'unsophisticated': 3, 'Resident': 3, 'resolutely': 3, 'Frailty': 3, 'Delia': 3, 'Julie': 3, 'Davis': 3, 'credit': 3, 'Barbershop': 3, 'Hilarious': 3, 'Cremaster': 3, '3': 3, 'Here': 3, 'enjoyment': 3, 'Body': 3, 'refuses': 3, 'Veterans': 3, 'Obvious': 3, 'Credit': 3, 'lively': 3, 'enduring': 3, 'puzzling': 3, 'Wahlberg': 3, 'Captures': 3, 'exceptionally': 3, 'Innocuous': 3, 'Newcomer': 3, 'somehow': 3, 'Unambitious': 3, 'Dignified': 3, 'CEO': 3, 'honks': 3, 'Barry': 3, 'Sonnenfeld': 3, 'subconscious': 3, 'Make': 3, 'Standing': 3, 'successfully': 3, 'Skillful': 3, 'Adrift': 3, 'difference': 3, 'initial': 3, 'My': 3, 'Exploits': 3, 'roughly': 3, 'somewhere': 3, 'Cox': 3, 'tumult': 3, 'depends': 3, 'Nearly': 3, 'Producer': 3, 'Ultimate': 3, 'Hutchins': 3, 'Crikey': 3, 'Yorkers': 3, 'Wilder': 3, 'Hugely': 3, 'Charlotte': 3, 'imaginable': 3, 'Upper': 3, 'Teens': 3, 'gift': 3, 'Comedian': 3, 'aficionados': 3, 'Girls': 3, 'Thin': 3, 'well-executed': 3, 'Gives': 3, 'diversions': 3, 'Did': 3, 'Interminably': 3, 'blushing': 3, 'cleverly': 3, 'uneven': 3, 'gorgeousness': 3, 'Waiting': 3, 'Whole': 3, 'pitiful': 3, 'Carrying': 3, 'HIV/AIDS': 3, 'Narratively': 2, 'Fresnadillo': 2, 'Best': 2, 'Cattaneo': 2, 'Fortunately': 2, 'Finally': 2, 'Tsai': 2, 'Filmmaker': 2, 'And': 2, 'Swinging': 2, 'Devos': 2, 'Daughter': 2, 'Because': 2, 'Before': 2, 'Campanella': 2, 'Wallace': 2, 'Beautifully': 2, 'Manages': 2, 'Damon': 2, 'Or': 2, 'Miyazaki': 2, 'Now': 2, 'Superbly': 2, 'abyss': 2, 'jones': 2, 'Sadly': 2, 'Seeing': 2, 'Leigh': 2, 'For': 2, 'Bigelow': 2, 'Evil': 2, 'Gooding': 2, 'Trying': 2, 'Much': 2, 'Consistently': 2, 'Bearable': 2, 'Attal': 2, 'Any': 2, 'witty': 2, 'frustratingly': 2, 'Seems': 2, 'Claims': 2, 'Mana': 2, 'Ca': 2, 'Maelstrom': 2, 'Friday': 2, 'Imagine': 2, 'Romantic': 2, 'Perfectly': 2, 'Goes': 2, 'Combines': 2, 'Schrader': 2, 'Peralta': 2, 'Will': 2, 'Audiard': 2, 'Elling': 2, 'symbolic': 2, 'Hashiguchi': 2, 'Falsehoods': 2, 'Unfortunately': 2, 'Read': 2, 'maybe': 2, 'Only': 2, 'Wedding': 2, 'Statham': 2, 'Wiser': 2, 'No': 2, 'Poetry': 2, 'None': 2, 'Low': 2, 'snapshot': 2, 'Stage': 2, 'shoving': 2, 'white-trash': 2, 'Kitschy': 2, 'Execrable': 2, 'Bernal': 2, 'Decasia': 2, 'Entertainment': 2, 'Affirms': 2, 'stereotype': 2, 'Unlike': 2, 'journalistic': 2, 'draws': 2, 'became': 2, 'deadly': 2, 'policy': 2, 'Patients': 2, 'stigma': 2, '50%': 2, 'Around': 2, 'Health': 2, 'deaths': 2, '2016': 2, '90%': 2, 'Armed': 2, 'attitude,': 2, 'youths': 2, 'Absorbing': 1, 'Turpin': 1, 'He': 1, 'Offers': 1, 'sinks': 1, 'Nicely': 1, 'Gets': 1, 'She': 1, 'Parts': 1, 'lifted': 1, 'pressed': 1, 'casings': 1, 'Goofy': 1, 'Rather': 1, 'Why': 1, 'Rarely': 1, 'Delivers': 1, 'moved': 1, 'Possibly': 1, 'Really': 1, 'Brady': 1, 'These': 1, 'Slight': 1, 'Maintains': 1, 'omitted': 1, 'unsaid': 1, 'rising': 1, 'Bengal': 1, 'AP': 1, 'accounts': 1, '20%': 1, 'Over': 1, '14,000': 1, 'infected': 1, 'ILO': 1, 'launches': 1, 'initiative': 1, 'reach': 1, '5': 1, 'workers': 1, 'voluntary': 1, 'testing': 1, '2.5': 1, 'Global': 1, 'Plan': 1, 'Elimination': 1, 'Infections': 1, 'Children': 1, '2015': 1, 'Keeping': 1, 'Their': 1, 'Mothers': 1, 'Alive': 1, 'Cost-effective:': 1, 'tests': 1, 'India:': 1, 'Living': 1, 'H.I.V.': 1, 'Tests': 1, 'Urged': 1, '800': 1, 'Million': 1, 'Get': 1, 'Insurance': 1, 'Alarming': 1, 'rise': 1, 'adolescents': 1, 'Wiping': 1, 'HIV:': 1, 'discrimination': 1, 'Free': 1, 'HIV,': 1, 'village': 1, 'unaffected': 1, 'Goa': 1, '3rd-highest': 1, 'shortages': 1, 'Four': 1, 'south': 1, 'Law': 1, 'Bans': 1, 'Discrimination': 1, 'Against': 1, 'UNAIDS': 1, 'report': 1, '19': 1, '35': 1, 'virus': 1, 'Funding': 1, 'programme': 1, 'risk': 1, 'AIDS:': 1, 'Prevalence': 1, 'Treatment': 1, 'Minister': 1, 'Questions': 1, 'Stress': 1, 'Condoms': 1, 'Fight': 1, 'announces': 1, 'milestone': 1, '1': 1, 'Africa': 1, 'strengthen': 1, 'partnership': 1, 'accessible': 1, 'affordable': 1, 'medicines': 1, 'discovered': 1, 'fell': 1, '58%': 1, '2005': 1, 'tremendously': 1, 'eradicate': 1, '3,500': 1, '2013': 1, 'traced': 1, '2,234': 1, 'infections': 1, 'decline': 1, 'pregnant': 1, 'Denied': 1, 'rights': 1, 'treatment,': 1, '67': 1, 'born': 1, 'HIV-positive': 1, 'HIV-negative': 1, 'AIDS-free': 1, '2030,': 1, 'included': 1, 'India’s': 1, 'Problem': 1, 'HIV-AIDS': 1, 'Bill': 1, 'pave': 1, 'stigma-free': 1, 'TB': 1, 'centre': 1, 'excellence': 1, 'December': 1, '2019': 1, 'ministry': 1, 'implements': 1, 'Act': 1, '62%': 1, 'jump': 1, 'Aurobindo': 1, 'approval': 1, 'news:': 1, 'Ernakulam': 1})\n"
          ],
          "name": "stdout"
        }
      ]
    },
    {
      "metadata": {
        "id": "FgNJ58nB3iZb",
        "colab_type": "code",
        "colab": {
          "base_uri": "https://localhost:8080/",
          "height": 34
        },
        "outputId": "ed95abd0-421f-4d43-bad8-df6a5e499519"
      },
      "cell_type": "code",
      "source": [
        "print(len(review_int))"
      ],
      "execution_count": 111,
      "outputs": [
        {
          "output_type": "stream",
          "text": [
            "20000\n"
          ],
          "name": "stdout"
        }
      ]
    },
    {
      "metadata": {
        "id": "Goc3xhMs3xYm",
        "colab_type": "code",
        "colab": {
          "base_uri": "https://localhost:8080/",
          "height": 34
        },
        "outputId": "e83354fe-fae9-4591-f72d-92b6c7368d51"
      },
      "cell_type": "code",
      "source": [
        "labels=np.array(b['sentiment'])\n",
        "\n",
        "\n",
        "\n",
        "for i in range(20000):\n",
        "    if (labels[i]==0 or labels[i]==1):\n",
        "        labels[i]=0\n",
        "    elif labels[i]==2:\n",
        "        labels[i]=1\n",
        "    else:\n",
        "        labels[i]=2\n",
        "\n",
        "print((labels))"
      ],
      "execution_count": 112,
      "outputs": [
        {
          "output_type": "stream",
          "text": [
            "[0 1 1 ... 1 1 2]\n"
          ],
          "name": "stdout"
        }
      ]
    },
    {
      "metadata": {
        "id": "vmrjL1xrFIsn",
        "colab_type": "code",
        "colab": {
          "base_uri": "https://localhost:8080/",
          "height": 51
        },
        "outputId": "ecc77233-4893-44b0-842b-84f1f254ed82"
      },
      "cell_type": "code",
      "source": [
        "from collections import Counter\n",
        "review_lens = Counter([len(x) for x in review_int])\n",
        "print(\"Zero-length reviews: {}\".format(review_lens[0]))\n",
        "print(\"Maximum review length: {}\".format(max(review_lens)))"
      ],
      "execution_count": 113,
      "outputs": [
        {
          "output_type": "stream",
          "text": [
            "Zero-length reviews: 1\n",
            "Maximum review length: 51\n"
          ],
          "name": "stdout"
        }
      ]
    },
    {
      "metadata": {
        "id": "4yyld0vorRc5",
        "colab_type": "code",
        "colab": {}
      },
      "cell_type": "code",
      "source": [
        "\n",
        "# Filter out that review with 0 length\n",
        "review_int = [r[0:200] for r in review_int if len(r) > 0]"
      ],
      "execution_count": 0,
      "outputs": []
    },
    {
      "metadata": {
        "id": "8sha2g4NrbnH",
        "colab_type": "code",
        "colab": {
          "base_uri": "https://localhost:8080/",
          "height": 51
        },
        "outputId": "6da216a1-57b9-46d1-c4cc-89ff0e41864e"
      },
      "cell_type": "code",
      "source": [
        "from collections import Counter\n",
        "review_lens = Counter([len(x) for x in review_int])\n",
        "print(\"Zero-length reviews: {}\".format(review_lens[0]))\n",
        "print(\"Maximum review length: {}\".format(max(review_lens)))"
      ],
      "execution_count": 115,
      "outputs": [
        {
          "output_type": "stream",
          "text": [
            "Zero-length reviews: 0\n",
            "Maximum review length: 51\n"
          ],
          "name": "stdout"
        }
      ]
    },
    {
      "metadata": {
        "id": "P-Mw9lS7Jl9R",
        "colab_type": "code",
        "colab": {
          "base_uri": "https://localhost:8080/",
          "height": 867
        },
        "outputId": "d9f25233-2038-40ed-f56e-2d4074ac6695"
      },
      "cell_type": "code",
      "source": [
        "seq_len = 51\n",
        "features = np.zeros((len(review_int), seq_len), dtype=int)\n",
        "# print(features[:10,:100])\n",
        "for i, row in enumerate(review_int):\n",
        "    features[i, -len(row):] = np.array(row)[:seq_len]\n",
        "features[:10,:100]"
      ],
      "execution_count": 116,
      "outputs": [
        {
          "output_type": "execute_result",
          "data": {
            "text/plain": [
              "array([[   0,    0,    0,    0,    0,    0,    0,    0,    0,    0,    0,\n",
              "           0,    0,    0,   47,  651,    3, 4056, 3315,    1, 2977,   11,\n",
              "          74,    9,   53,   16,    1, 1749,    9,  191,   53,   16,    1,\n",
              "        2617,    2,   64,    3,   67,  457, 2282,   19,  888,    3,   67,\n",
              "         594,    6,   69,    3,    5,   39,    8],\n",
              "       [   0,    0,    0,    0,    0,    0,    0,    0,    0,    0,    0,\n",
              "           0,    0,    0,    0,    0,    0,    0,    0,    0,    0,    0,\n",
              "           0,    0,    0,    0,    0,    0,    0,    0,    0,    0,    0,\n",
              "           0,    0,    0,    0,   47,  651,    3, 4056, 3315,    1, 2977,\n",
              "          11,   74,    9,   53,   16,    1, 1749],\n",
              "       [   0,    0,    0,    0,    0,    0,    0,    0,    0,    0,    0,\n",
              "           0,    0,    0,    0,    0,    0,    0,    0,    0,    0,    0,\n",
              "           0,    0,    0,    0,    0,    0,    0,    0,    0,    0,    0,\n",
              "           0,    0,    0,    0,    0,    0,    0,    0,    0,    0,    0,\n",
              "           0,    0,    0,    0,    0,   47,  651],\n",
              "       [   0,    0,    0,    0,    0,    0,    0,    0,    0,    0,    0,\n",
              "           0,    0,    0,    0,    0,    0,    0,    0,    0,    0,    0,\n",
              "           0,    0,    0,    0,    0,    0,    0,    0,    0,    0,    0,\n",
              "           0,    0,    0,    0,    0,    0,    0,    0,    0,    0,    0,\n",
              "           0,    0,    0,    0,    0,    0,   47],\n",
              "       [   0,    0,    0,    0,    0,    0,    0,    0,    0,    0,    0,\n",
              "           0,    0,    0,    0,    0,    0,    0,    0,    0,    0,    0,\n",
              "           0,    0,    0,    0,    0,    0,    0,    0,    0,    0,    0,\n",
              "           0,    0,    0,    0,    0,    0,    0,    0,    0,    0,    0,\n",
              "           0,    0,    0,    0,    0,    0,  651],\n",
              "       [   0,    0,    0,    0,    0,    0,    0,    0,    0,    0,    0,\n",
              "           0,    0,    0,    0,    0,    0,    0,    0,    0,    0,    0,\n",
              "           0,    0,    0,    0,    0,    0,    0,    0,    0,    0,    0,\n",
              "           0,    0,    0,    0,    0,    0,    3, 4056, 3315,    1, 2977,\n",
              "          11,   74,    9,   53,   16,    1, 1749],\n",
              "       [   0,    0,    0,    0,    0,    0,    0,    0,    0,    0,    0,\n",
              "           0,    0,    0,    0,    0,    0,    0,    0,    0,    0,    0,\n",
              "           0,    0,    0,    0,    0,    0,    0,    0,    0,    0,    0,\n",
              "           0,    0,    0,    0,    0,    0,    0,    0,    0,    0,    0,\n",
              "           0,    0,    0,    0,    0,    0,    3],\n",
              "       [   0,    0,    0,    0,    0,    0,    0,    0,    0,    0,    0,\n",
              "           0,    0,    0,    0,    0,    0,    0,    0,    0,    0,    0,\n",
              "           0,    0,    0,    0,    0,    0,    0,    0,    0,    0,    0,\n",
              "           0,    0,    0,    0,    0,    0,    0, 4056, 3315,    1, 2977,\n",
              "          11,   74,    9,   53,   16,    1, 1749],\n",
              "       [   0,    0,    0,    0,    0,    0,    0,    0,    0,    0,    0,\n",
              "           0,    0,    0,    0,    0,    0,    0,    0,    0,    0,    0,\n",
              "           0,    0,    0,    0,    0,    0,    0,    0,    0,    0,    0,\n",
              "           0,    0,    0,    0,    0,    0,    0,    0,    0,    0,    0,\n",
              "           0,    0,    0,    0,    0,    0, 4056],\n",
              "       [   0,    0,    0,    0,    0,    0,    0,    0,    0,    0,    0,\n",
              "           0,    0,    0,    0,    0,    0,    0,    0,    0,    0,    0,\n",
              "           0,    0,    0,    0,    0,    0,    0,    0,    0,    0,    0,\n",
              "           0,    0,    0,    0,    0,    0,    0,    0, 3315,    1, 2977,\n",
              "          11,   74,    9,   53,   16,    1, 1749]])"
            ]
          },
          "metadata": {
            "tags": []
          },
          "execution_count": 116
        }
      ]
    },
    {
      "metadata": {
        "id": "94lIsVsrKyKa",
        "colab_type": "code",
        "colab": {
          "base_uri": "https://localhost:8080/",
          "height": 153
        },
        "outputId": "e1a60692-d78e-437d-efe5-b0817004e20d"
      },
      "cell_type": "code",
      "source": [
        "print(len(features))\n",
        "print(type(features))\n",
        "print(features[41])\n",
        "print(len(features[41]))\n",
        "print(review_int[41])\n",
        "print(len(review_int[41]))"
      ],
      "execution_count": 117,
      "outputs": [
        {
          "output_type": "stream",
          "text": [
            "19999\n",
            "<class 'numpy.ndarray'>\n",
            "[ 0  0  0  0  0  0  0  0  0  0  0  0  0  0  0  0  0  0  0  0  0  0  0  0\n",
            "  0  0  0  0  0  0  0  0  0  0  0  0  0  0  0  0  0  0  0  0  0  0  0  0\n",
            "  0  3 67]\n",
            "51\n",
            "[3, 67]\n",
            "2\n"
          ],
          "name": "stdout"
        }
      ]
    },
    {
      "metadata": {
        "id": "3WFvOlf6kLli",
        "colab_type": "text"
      },
      "cell_type": "markdown",
      "source": [
        "# Creating training and testing dataset\n",
        "\n",
        "With our data in nice shape, we'll split it into training, validation, and test sets."
      ]
    },
    {
      "metadata": {
        "id": "rGRBij6EkNsl",
        "colab_type": "code",
        "colab": {
          "base_uri": "https://localhost:8080/",
          "height": 136
        },
        "outputId": "fb13ebc1-9252-4b7b-ed30-2f14dd2f51da"
      },
      "cell_type": "code",
      "source": [
        "split_frac = 0.8\n",
        "\n",
        "split_index = int(split_frac * len(features))\n",
        "\n",
        "train_x, val_x = features[:split_index], features[split_index:] \n",
        "train_y, val_y = labels[:split_index], labels[split_index:]\n",
        "\n",
        "split_frac = 0.5\n",
        "split_index = int(split_frac * len(val_x))\n",
        "\n",
        "val_x, test_x = val_x[:split_index], val_x[split_index:]\n",
        "val_y, test_y = val_y[:split_index], val_y[split_index:]\n",
        "\n",
        "print(\"\\t\\t\\tFeature Shapes:\")\n",
        "print(\"Train set: \\t\\t{}\".format(train_x.shape), \n",
        "      \"\\nValidation set: \\t{}\".format(val_x.shape),\n",
        "      \"\\nTest set: \\t\\t{}\".format(test_x.shape))\n",
        "print(\"label set: \\t\\t{}\".format(train_y.shape), \n",
        "      \"\\nValidation label set: \\t{}\".format(val_y.shape),\n",
        "      \"\\nTest label set: \\t\\t{}\".format(test_y.shape))"
      ],
      "execution_count": 118,
      "outputs": [
        {
          "output_type": "stream",
          "text": [
            "\t\t\tFeature Shapes:\n",
            "Train set: \t\t(15999, 51) \n",
            "Validation set: \t(2000, 51) \n",
            "Test set: \t\t(2000, 51)\n",
            "label set: \t\t(15999,) \n",
            "Validation label set: \t(2000,) \n",
            "Test label set: \t\t(2001,)\n"
          ],
          "name": "stdout"
        }
      ]
    },
    {
      "metadata": {
        "id": "oLsBey0vLVMt",
        "colab_type": "text"
      },
      "cell_type": "markdown",
      "source": [
        "# Bulding the Recurrent neural network\n",
        "\n",
        "lstm_size: Number of units in the hidden layers in the LSTM cells. Usually larger is better performance wise. Common values are 128, 256, 512, etc.\n",
        "\n",
        "lstm_layers: Number of LSTM layers in the network. Starting  with 1, then add more if  model is underfitting.\n",
        "\n",
        "batch_size: The number of reviews to feed the network in one training pass. Typically this should be set as high as you can go without running out of memory.\n",
        "\n",
        "learning_rate: Learning rate will start with 0.01"
      ]
    },
    {
      "metadata": {
        "id": "WMyBdgRLLnvx",
        "colab_type": "code",
        "colab": {}
      },
      "cell_type": "code",
      "source": [
        "lstm_size = 256\n",
        "lstm_layers = 2\n",
        "batch_size = 1000\n",
        "learning_rate = 0.01"
      ],
      "execution_count": 0,
      "outputs": []
    },
    {
      "metadata": {
        "id": "whQN2cINMJS-",
        "colab_type": "text"
      },
      "cell_type": "markdown",
      "source": [
        "we will be feeding the review vector to the network.we will also use drop-out,hence will have to assign a placeholder for keep_probability in case of over-fitting."
      ]
    },
    {
      "metadata": {
        "id": "BV_V_IUeMtmI",
        "colab_type": "code",
        "colab": {}
      },
      "cell_type": "code",
      "source": [
        "n_words = len(vocab_to_int) + 1 # Add 1 for 0 added to vocab\n",
        "\n",
        "# Create the graph object\n",
        "tf.reset_default_graph()\n",
        "with tf.name_scope('inputs'):\n",
        "    inputs_ = tf.placeholder(tf.int32, [None, None], name=\"inputs\")\n",
        "    labels_ = tf.placeholder(tf.int32, [None, None], name=\"labels\")\n",
        "    keep_prob = tf.placeholder(tf.float32, name=\"keep_prob\")"
      ],
      "execution_count": 0,
      "outputs": []
    },
    {
      "metadata": {
        "id": "k-5_WmTdQ0D_",
        "colab_type": "text"
      },
      "cell_type": "markdown",
      "source": [
        "# Embedding\n",
        "\n",
        "\n",
        "Now we'll add an embedding layer. We need to do this because there are too many words in our vocabulary. It is massively inefficient to one-hot encode our classes here.  Instead of one-hot encoding, we can have an embedding layer and use that layer as a lookup table."
      ]
    },
    {
      "metadata": {
        "id": "ff6eve1gRE1t",
        "colab_type": "code",
        "colab": {}
      },
      "cell_type": "code",
      "source": [
        "\n",
        "# Size of the embedding vectors (number of units in the embedding layer)\n",
        "embed_size = 300 \n",
        "\n",
        "with tf.name_scope(\"Embeddings\"):\n",
        "    embedding = tf.Variable(tf.random_uniform((n_words, embed_size), -1, 1))\n",
        "    embed = tf.nn.embedding_lookup(embedding, inputs_)"
      ],
      "execution_count": 0,
      "outputs": []
    },
    {
      "metadata": {
        "id": "CH5jEvX8RbuS",
        "colab_type": "text"
      },
      "cell_type": "markdown",
      "source": [
        "# LSTM Cell\n",
        "\n",
        "So the final cell we are using in the network is actually multiple (or just one) LSTM cells with dropout. \n",
        "\n"
      ]
    },
    {
      "metadata": {
        "id": "ZPzVprUwTmne",
        "colab_type": "code",
        "colab": {}
      },
      "cell_type": "code",
      "source": [
        "def lstm_cell():\n",
        "    # Your basic LSTM cell\n",
        "    lstm = tf.contrib.rnn.BasicLSTMCell(lstm_size, reuse=tf.get_variable_scope().reuse)\n",
        "    # Add dropout to the cell\n",
        "    return tf.contrib.rnn.DropoutWrapper(lstm, output_keep_prob=keep_prob)\n",
        "\n",
        "with tf.name_scope(\"RNN_layers\"):\n",
        "    # Stack up multiple LSTM layers, for deep learning\n",
        "    cell = tf.contrib.rnn.MultiRNNCell([lstm_cell() for _ in range(lstm_layers)])\n",
        "    \n",
        "    # Getting an initial state of all zeros\n",
        "    initial_state = cell.zero_state(batch_size, tf.float32)"
      ],
      "execution_count": 0,
      "outputs": []
    },
    {
      "metadata": {
        "id": "yYTwWk9sT8Bf",
        "colab_type": "text"
      },
      "cell_type": "markdown",
      "source": [
        "# RNN Forward Pass\n",
        "\n",
        "In this part of the code, we need to run the data through the network.To do this we use the inbuilt function tf.nn.dynamic_cell.we will feed the Basic LSTM cell and input to the function."
      ]
    },
    {
      "metadata": {
        "id": "dGpGs17xT7m8",
        "colab_type": "code",
        "colab": {}
      },
      "cell_type": "code",
      "source": [
        "with tf.name_scope(\"RNN_forward\"):\n",
        "    outputs, final_state = tf.nn.dynamic_rnn(cell, embed, initial_state=initial_state)"
      ],
      "execution_count": 0,
      "outputs": []
    },
    {
      "metadata": {
        "id": "X83wgA6oWsTt",
        "colab_type": "text"
      },
      "cell_type": "markdown",
      "source": [
        "# Output\n",
        "we only care about the final output to detemine the sentiment,which we will grab by outputs[:,-1] and calculate the cost from that and labels.\n"
      ]
    },
    {
      "metadata": {
        "id": "B2VuBPIiRcUt",
        "colab_type": "code",
        "colab": {}
      },
      "cell_type": "code",
      "source": [
        "with tf.name_scope('predictions'):\n",
        "    predictions = tf.contrib.layers.fully_connected(outputs[:, -1], 1, activation_fn=tf.sigmoid)\n",
        "    \n",
        "with tf.name_scope('cost'):\n",
        "    cost = tf.losses.mean_squared_error(labels_, predictions)\n",
        "    \n",
        "\n",
        "with tf.name_scope('train'):\n",
        "    optimizer = tf.train.AdamOptimizer(learning_rate).minimize(cost)"
      ],
      "execution_count": 0,
      "outputs": []
    },
    {
      "metadata": {
        "id": "wuVYOYNWXbAA",
        "colab_type": "text"
      },
      "cell_type": "markdown",
      "source": [
        "# Validation Accuracy\n",
        "\n",
        "Here we calculate the validation accuracy."
      ]
    },
    {
      "metadata": {
        "id": "ClzcR3sbXZOZ",
        "colab_type": "code",
        "colab": {}
      },
      "cell_type": "code",
      "source": [
        "with tf.name_scope('validation'):\n",
        "    correct_pred = tf.equal(tf.cast(tf.round(predictions), tf.int32), labels_)\n",
        "    accuracy = tf.reduce_mean(tf.cast(correct_pred, tf.float32))"
      ],
      "execution_count": 0,
      "outputs": []
    },
    {
      "metadata": {
        "id": "iIRE9pfh5g_r",
        "colab_type": "text"
      },
      "cell_type": "markdown",
      "source": [
        "# Batching\n",
        "\n",
        "A function for returning batches from our data."
      ]
    },
    {
      "metadata": {
        "id": "tWAdGkRE6JK1",
        "colab_type": "code",
        "colab": {}
      },
      "cell_type": "code",
      "source": [
        "def get_batches(x, y, batch_size=100):\n",
        "    \n",
        "    n_batches = len(x)//batch_size\n",
        "    x, y = x[:n_batches*batch_size], y[:n_batches*batch_size]\n",
        "    for ii in range(0, len(x), batch_size):\n",
        "        yield x[ii:ii+batch_size], y[ii:ii+batch_size]"
      ],
      "execution_count": 0,
      "outputs": []
    },
    {
      "metadata": {
        "id": "-9j7fZ4A78Ae",
        "colab_type": "text"
      },
      "cell_type": "markdown",
      "source": [
        "# Training\n",
        "\n",
        "Here we train our network."
      ]
    },
    {
      "metadata": {
        "id": "Ala-Xj6s8_8R",
        "colab_type": "code",
        "colab": {
          "base_uri": "https://localhost:8080/",
          "height": 527
        },
        "outputId": "175ad137-eab8-41fa-89fc-dfa0a460edcf"
      },
      "cell_type": "code",
      "source": [
        "epochs = 10\n",
        "\n",
        "# with graph.as_default():\n",
        "saver = tf.train.Saver()\n",
        "\n",
        "with tf.Session() as sess:\n",
        "    sess.run(tf.global_variables_initializer())\n",
        "    iteration = 1\n",
        "    for e in range(epochs):\n",
        "        state = sess.run(initial_state)\n",
        "        \n",
        "        for ii, (x, y) in enumerate(get_batches(train_x, train_y, batch_size), 1):\n",
        "            feed = {inputs_: x,\n",
        "                    labels_: y[:, None],\n",
        "                    keep_prob: 0.5,\n",
        "                    initial_state: state}\n",
        "            loss, state, _ = sess.run([cost, final_state, optimizer], feed_dict=feed)\n",
        "#             loss, state, _ = sess.run([cost, final_state, optimizer], feed_dict=feed)\n",
        "\n",
        "            \n",
        "        \n",
        "            if iteration%5==0:\n",
        "                print(\"Epoch: {}/{}\".format(e, epochs),\n",
        "                      \"Iteration: {}\".format(iteration),\n",
        "                      \"Train loss: {:.3f}\".format(loss))\n",
        "\n",
        "            if iteration%25==0:\n",
        "                val_acc = []\n",
        "                val_state = sess.run(cell.zero_state(batch_size, tf.float32))\n",
        "                for x, y in get_batches(val_x, val_y, batch_size):\n",
        "                    feed = {inputs_: x,\n",
        "                            labels_: y[:, None],\n",
        "                            keep_prob: 1,\n",
        "                            initial_state: val_state}\n",
        "#                     batch_acc, val_state = sess.run([accuracy, final_state], feed_dict=feed)\n",
        "                    batch_acc, val_state = sess.run([ accuracy, final_state], feed_dict=feed)\n",
        "                    val_acc.append(batch_acc)\n",
        "                #print(\"Val acc: {:.3f}\".format(np.mean(val_acc)))\n",
        "            iteration +=1\n",
        "            \n",
        "            saver.save(sess, \"./checkpoints/sentiment_manish.ckpt\")\n",
        "    saver.save(sess, \"./checkpoints/sentiment_manish.ckpt\")"
      ],
      "execution_count": 140,
      "outputs": [
        {
          "output_type": "stream",
          "text": [
            "Epoch: 0/10 Iteration: 5 Train loss: 0.470\n",
            "Epoch: 0/10 Iteration: 10 Train loss: 0.454\n",
            "Epoch: 0/10 Iteration: 15 Train loss: 0.428\n",
            "Epoch: 1/10 Iteration: 20 Train loss: 0.470\n",
            "Epoch: 1/10 Iteration: 25 Train loss: 0.454\n",
            "Epoch: 1/10 Iteration: 30 Train loss: 0.428\n",
            "Epoch: 2/10 Iteration: 35 Train loss: 0.470\n",
            "Epoch: 2/10 Iteration: 40 Train loss: 0.454\n",
            "Epoch: 2/10 Iteration: 45 Train loss: 0.428\n",
            "Epoch: 3/10 Iteration: 50 Train loss: 0.470\n",
            "Epoch: 3/10 Iteration: 55 Train loss: 0.454\n",
            "Epoch: 3/10 Iteration: 60 Train loss: 0.428\n",
            "Epoch: 4/10 Iteration: 65 Train loss: 0.470\n",
            "Epoch: 4/10 Iteration: 70 Train loss: 0.454\n",
            "Epoch: 4/10 Iteration: 75 Train loss: 0.428\n",
            "Epoch: 5/10 Iteration: 80 Train loss: 0.470\n",
            "Epoch: 5/10 Iteration: 85 Train loss: 0.454\n",
            "Epoch: 5/10 Iteration: 90 Train loss: 0.428\n",
            "Epoch: 6/10 Iteration: 95 Train loss: 0.470\n",
            "Epoch: 6/10 Iteration: 100 Train loss: 0.454\n",
            "Epoch: 6/10 Iteration: 105 Train loss: 0.428\n",
            "Epoch: 7/10 Iteration: 110 Train loss: 0.470\n",
            "Epoch: 7/10 Iteration: 115 Train loss: 0.454\n",
            "Epoch: 7/10 Iteration: 120 Train loss: 0.428\n",
            "Epoch: 8/10 Iteration: 125 Train loss: 0.470\n",
            "Epoch: 8/10 Iteration: 130 Train loss: 0.454\n",
            "Epoch: 8/10 Iteration: 135 Train loss: 0.428\n",
            "Epoch: 9/10 Iteration: 140 Train loss: 0.470\n",
            "Epoch: 9/10 Iteration: 145 Train loss: 0.454\n",
            "Epoch: 9/10 Iteration: 150 Train loss: 0.428\n"
          ],
          "name": "stdout"
        }
      ]
    },
    {
      "metadata": {
        "id": "T2SHY9tZF0UY",
        "colab_type": "text"
      },
      "cell_type": "markdown",
      "source": [
        "##  Using random forest algorithm for sentiment analysis "
      ]
    },
    {
      "metadata": {
        "id": "zN9SwX80GLx1",
        "colab_type": "code",
        "colab": {}
      },
      "cell_type": "code",
      "source": [
        "y1=np.array(b['sentiment'])\n",
        "\n",
        "for i in range(20000):\n",
        "    if (y1[i]==0 or y1[i]==1):\n",
        "        y1[i]=0\n",
        "    elif y1[i]==2:\n",
        "        y1[i]=1\n",
        "    else:\n",
        "        y1[i]=2\n",
        "\n",
        "\n",
        "\n",
        "vectorizer = CountVectorizer(min_df=2)\n",
        "\n",
        "X = vectorizer.fit_transform(b['phrase']).toarray()\n",
        "X1= vectorizer.transform(y2012).toarray()\n",
        "X2= vectorizer.transform(y2013).toarray()\n",
        "X3= vectorizer.transform(y2014).toarray()\n",
        "X4= vectorizer.transform(y2015).toarray()\n",
        "X5= vectorizer.transform(y2016).toarray()\n",
        "X6= vectorizer.transform(y2017).toarray()\n",
        "X7= vectorizer.transform(y2018).toarray()\n",
        "\n",
        "\n",
        "clf=RandomForestClassifier(n_estimators=20)\n",
        "clf.fit(X,y1)\n",
        "r=clf.predict(X1)\n",
        "r1=clf.predict(X2)\n",
        "r2=clf.predict(X3)\n",
        "r3=clf.predict(X4)\n",
        "r4=clf.predict(X5)\n",
        "r5=clf.predict(X6)\n",
        "r6=clf.predict(X7)\n",
        "\n",
        "r=np.sum(r)/len(r)\n",
        "r1=np.sum(r1)/len(r1)\n",
        "r2=np.sum(r2)/len(r2)\n",
        "r3=np.sum(r3)/len(r3)\n",
        "r4=np.sum(r4)/len(r4)\n",
        "r5=np.sum(r5)/len(r5)\n",
        "r6=np.sum(r6)/len(r6)"
      ],
      "execution_count": 0,
      "outputs": []
    },
    {
      "metadata": {
        "colab_type": "text",
        "id": "lUYqL1PbHJIs"
      },
      "cell_type": "markdown",
      "source": [
        "# Analysing the result\n",
        "\n",
        "Here we compare the predicted sentiment score of each year to actual sentiment score of each year \n",
        "by plotting them in the graph below.\n"
      ]
    },
    {
      "metadata": {
        "id": "oHpmQsVeGLtk",
        "colab_type": "code",
        "colab": {
          "base_uri": "https://localhost:8080/",
          "height": 361
        },
        "outputId": "da42fcba-7bab-42dc-faf1-84a141f3c52e"
      },
      "cell_type": "code",
      "source": [
        "import matplotlib.pyplot as plt\n",
        "\n",
        "\n",
        "plt.figure()\n",
        "x=[2012,2013,2014,2015,2016,2017,2018]\n",
        "plt.plot(x,[r,r1,r2,r3,r4,r5,r6],label='random forest')\n",
        "plt.plot(x,[0.67,0.83,0.5,1,1,1.25,1.44],label='Actual')\n",
        "plt.legend()\n",
        "plt.xlabel('Year')\n",
        "plt.ylabel('Average sentiment')\n",
        "plt.show()\n",
        "\n",
        "#here_a_high_sentiment_score_denotes_a_positive_sentiment"
      ],
      "execution_count": 146,
      "outputs": [
        {
          "output_type": "display_data",
          "data": {
            "image/png": "[encoded data removed]",
            "text/plain": [
              "<matplotlib.figure.Figure at 0x7f1bfcc5ee80>"
            ]
          },
          "metadata": {
            "tags": []
          }
        }
      ]
    },
    {
      "metadata": {
        "id": "O6QStU2gJ7Fj",
        "colab_type": "text"
      },
      "cell_type": "markdown",
      "source": [
        "# Conclusion\n",
        "\n",
        "Therefore from the above  analysis and results , random forest is better than LSTM models for sentiment analysis in this case.This is surely not a generalised trend and has happened because of various factors like inconsistent dataset and incoherance between  news headlines and their sentiments."
      ]
    }
  ]
}